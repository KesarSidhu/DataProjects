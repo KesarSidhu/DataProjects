{
 "cells": [
  {
   "cell_type": "markdown",
   "metadata": {},
   "source": [
    "# Problem at Hand\n",
    "\n",
    "When a reservation is made, it's not always guaranteed that the guest may show up. For example the guest may have cancelled their trip, flight got delayed, illness, or even possibly booked at the wrong location. \n",
    "\n",
    "From this, the conflict arises for the hotel. They may have almost no vacancy left, so those rooms guaranteed by the guest's reservations provides a loss of revenue if they decide to not show up.\n",
    "\n",
    "To help fix this issue, we can design prediction model to determine if a hotel booking would be canceled"
   ]
  },
  {
   "cell_type": "markdown",
   "metadata": {},
   "source": [
    "# Steps we'll Take\n",
    "\n",
    "- Importing Libraries\n",
    "\n",
    "- Exploring the Dataset\n",
    "  - Summary Statistics\n",
    "  - Basic data information\n",
    "\n",
    "- Preprocessing\n",
    "  - Cleaning\n",
    "  - Transformation\n",
    "\n",
    "- EDA\n",
    "  - Exploring variable relation to response variable\n",
    "  - Correlation Matrix\n",
    "\n",
    "- Model Building\n",
    "\n",
    "- Model Accuracy\n",
    "  - Compare model performances (accuracy, precision, F1-score, recall)\n",
    "\n",
    "\n"
   ]
  },
  {
   "cell_type": "markdown",
   "metadata": {},
   "source": [
    "# Importing Libraries\n",
    "\n",
    "To install libraries for the first time: \n",
    "1) Check version of pip: pip --version \n",
    "3) Install using pip: pip install \"library-name\""
   ]
  },
  {
   "cell_type": "code",
   "execution_count": 107,
   "metadata": {},
   "outputs": [],
   "source": [
    "import numpy as np\n",
    "import pandas as pd\n",
    "import matplotlib.pyplot as plt\n",
    "import seaborn as sns "
   ]
  },
  {
   "cell_type": "markdown",
   "metadata": {},
   "source": [
    "# Exploring Dataset\n",
    "\n",
    "Metadata:\n",
    "- is_canceled: Reservation cancellation status (0 = not canceled, 1 = canceled)\n",
    "- lead_time: Number of days between booking and arrival\n",
    "- arrival_date_year: Year of arrival\n",
    "- arrival_date_month: Month of arrival\n",
    "- arrival_date_week_number: Week number of the year for arrival\n",
    "- arrival_date_day_of_month: Day of the month of arrival\n",
    "- stays_in_weekend_nights: Number of weekend nights (Saturday and Sunday) the guest stayed or booked\n",
    "- stays_in_week_nights: Number of week nights the guest stayed or booked\n",
    "- adults: Number of adults\n",
    "- children: Number of children\n",
    "- babies: Number of babies\n",
    "- meal: Type of meal booked (BB, FB, HB, SC, Undefined)\n",
    "- country: Country of origin of the guest\n",
    "- market_segment: Market segment designation\n",
    "- distribution_channel: Booking distribution channel\n",
    "- is_repeated_guest: If the guest is a repeat customer (0 = not repeated, 1 = repeated)\n",
    "- previous_cancellations: Number of previous bookings that were canceled by the customer\n",
    "- previous_bookings_not_canceled: Number of previous bookings that were not canceled by the customer\n",
    "- reserved_room_type: Type of reserved room\n",
    "- assigned_room_type: Type of assigned room\n",
    "- booking_changes: Number of changes made to the booking\n",
    "- deposit_type: Type of deposit made (No Deposit, Refundable, Non Refund)\n",
    "- agent: ID of the travel agent responsible for the booking\n",
    "- company: ID of the company responsible for the booking\n",
    "- days_in_waiting_list: Number of days the booking was in the waiting list\n",
    "- customer_type: Type of customer (Transient, Contract, Transient-Party, Group)\n",
    "- adr: Average Daily Rate\n",
    "- required_car_parking_spaces: Number of car parking spaces required\n",
    "- total_of_special_requests: Number of special requests made\n",
    "- reservation_status: Last reservation status (Check-Out, Canceled, No-Show)\n",
    "- reservation_status_date: Date of the last reservation status\n",
    "- name: Guest's name\n",
    "- email: Guest's email address\n",
    "- phone-number: Guest's phone number\n",
    "- credit_card: Last four digits of the guest's credit card\n"
   ]
  },
  {
   "cell_type": "code",
   "execution_count": 108,
   "metadata": {},
   "outputs": [
    {
     "data": {
      "application/vnd.microsoft.datawrangler.viewer.v0+json": {
       "columns": [
        {
         "name": "index",
         "rawType": "int64",
         "type": "integer"
        },
        {
         "name": "hotel",
         "rawType": "object",
         "type": "string"
        },
        {
         "name": "is_canceled",
         "rawType": "int64",
         "type": "integer"
        },
        {
         "name": "lead_time",
         "rawType": "int64",
         "type": "integer"
        },
        {
         "name": "arrival_date_year",
         "rawType": "int64",
         "type": "integer"
        },
        {
         "name": "arrival_date_month",
         "rawType": "object",
         "type": "string"
        },
        {
         "name": "arrival_date_week_number",
         "rawType": "int64",
         "type": "integer"
        },
        {
         "name": "arrival_date_day_of_month",
         "rawType": "int64",
         "type": "integer"
        },
        {
         "name": "stays_in_weekend_nights",
         "rawType": "int64",
         "type": "integer"
        },
        {
         "name": "stays_in_week_nights",
         "rawType": "int64",
         "type": "integer"
        },
        {
         "name": "adults",
         "rawType": "int64",
         "type": "integer"
        },
        {
         "name": "children",
         "rawType": "float64",
         "type": "float"
        },
        {
         "name": "babies",
         "rawType": "int64",
         "type": "integer"
        },
        {
         "name": "meal",
         "rawType": "object",
         "type": "string"
        },
        {
         "name": "country",
         "rawType": "object",
         "type": "string"
        },
        {
         "name": "market_segment",
         "rawType": "object",
         "type": "string"
        },
        {
         "name": "distribution_channel",
         "rawType": "object",
         "type": "string"
        },
        {
         "name": "is_repeated_guest",
         "rawType": "int64",
         "type": "integer"
        },
        {
         "name": "previous_cancellations",
         "rawType": "int64",
         "type": "integer"
        },
        {
         "name": "previous_bookings_not_canceled",
         "rawType": "int64",
         "type": "integer"
        },
        {
         "name": "reserved_room_type",
         "rawType": "object",
         "type": "string"
        },
        {
         "name": "assigned_room_type",
         "rawType": "object",
         "type": "string"
        },
        {
         "name": "booking_changes",
         "rawType": "int64",
         "type": "integer"
        },
        {
         "name": "deposit_type",
         "rawType": "object",
         "type": "string"
        },
        {
         "name": "agent",
         "rawType": "float64",
         "type": "float"
        },
        {
         "name": "company",
         "rawType": "float64",
         "type": "float"
        },
        {
         "name": "days_in_waiting_list",
         "rawType": "int64",
         "type": "integer"
        },
        {
         "name": "customer_type",
         "rawType": "object",
         "type": "string"
        },
        {
         "name": "adr",
         "rawType": "float64",
         "type": "float"
        },
        {
         "name": "required_car_parking_spaces",
         "rawType": "int64",
         "type": "integer"
        },
        {
         "name": "total_of_special_requests",
         "rawType": "int64",
         "type": "integer"
        },
        {
         "name": "reservation_status",
         "rawType": "object",
         "type": "string"
        },
        {
         "name": "reservation_status_date",
         "rawType": "object",
         "type": "string"
        },
        {
         "name": "name",
         "rawType": "object",
         "type": "string"
        },
        {
         "name": "email",
         "rawType": "object",
         "type": "string"
        },
        {
         "name": "phone-number",
         "rawType": "object",
         "type": "string"
        },
        {
         "name": "credit_card",
         "rawType": "object",
         "type": "string"
        }
       ],
       "conversionMethod": "pd.DataFrame",
       "ref": "b6ecf697-01a3-49c1-b6ba-f71cd3663481",
       "rows": [
        [
         "0",
         "Resort Hotel",
         "0",
         "342",
         "2015",
         "July",
         "27",
         "1",
         "0",
         "0",
         "2",
         "0.0",
         "0",
         "BB",
         "PRT",
         "Direct",
         "Direct",
         "0",
         "0",
         "0",
         "C",
         "C",
         "3",
         "No Deposit",
         null,
         null,
         "0",
         "Transient",
         "0.0",
         "0",
         "0",
         "Check-Out",
         "2015-07-01",
         "Ernest Barnes",
         "Ernest.Barnes31@outlook.com",
         "669-792-1661",
         "************4322"
        ],
        [
         "1",
         "Resort Hotel",
         "0",
         "737",
         "2015",
         "July",
         "27",
         "1",
         "0",
         "0",
         "2",
         "0.0",
         "0",
         "BB",
         "PRT",
         "Direct",
         "Direct",
         "0",
         "0",
         "0",
         "C",
         "C",
         "4",
         "No Deposit",
         null,
         null,
         "0",
         "Transient",
         "0.0",
         "0",
         "0",
         "Check-Out",
         "2015-07-01",
         "Andrea Baker",
         "Andrea_Baker94@aol.com",
         "858-637-6955",
         "************9157"
        ],
        [
         "2",
         "Resort Hotel",
         "0",
         "7",
         "2015",
         "July",
         "27",
         "1",
         "0",
         "1",
         "1",
         "0.0",
         "0",
         "BB",
         "GBR",
         "Direct",
         "Direct",
         "0",
         "0",
         "0",
         "A",
         "C",
         "0",
         "No Deposit",
         null,
         null,
         "0",
         "Transient",
         "75.0",
         "0",
         "0",
         "Check-Out",
         "2015-07-02",
         "Rebecca Parker",
         "Rebecca_Parker@comcast.net",
         "652-885-2745",
         "************3734"
        ],
        [
         "3",
         "Resort Hotel",
         "0",
         "13",
         "2015",
         "July",
         "27",
         "1",
         "0",
         "1",
         "1",
         "0.0",
         "0",
         "BB",
         "GBR",
         "Corporate",
         "Corporate",
         "0",
         "0",
         "0",
         "A",
         "A",
         "0",
         "No Deposit",
         "304.0",
         null,
         "0",
         "Transient",
         "75.0",
         "0",
         "0",
         "Check-Out",
         "2015-07-02",
         "Laura Murray",
         "Laura_M@gmail.com",
         "364-656-8427",
         "************5677"
        ],
        [
         "4",
         "Resort Hotel",
         "0",
         "14",
         "2015",
         "July",
         "27",
         "1",
         "0",
         "2",
         "2",
         "0.0",
         "0",
         "BB",
         "GBR",
         "Online TA",
         "TA/TO",
         "0",
         "0",
         "0",
         "A",
         "A",
         "0",
         "No Deposit",
         "240.0",
         null,
         "0",
         "Transient",
         "98.0",
         "0",
         "1",
         "Check-Out",
         "2015-07-03",
         "Linda Hines",
         "LHines@verizon.com",
         "713-226-5883",
         "************5498"
        ]
       ],
       "shape": {
        "columns": 36,
        "rows": 5
       }
      },
      "text/html": [
       "<div>\n",
       "<style scoped>\n",
       "    .dataframe tbody tr th:only-of-type {\n",
       "        vertical-align: middle;\n",
       "    }\n",
       "\n",
       "    .dataframe tbody tr th {\n",
       "        vertical-align: top;\n",
       "    }\n",
       "\n",
       "    .dataframe thead th {\n",
       "        text-align: right;\n",
       "    }\n",
       "</style>\n",
       "<table border=\"1\" class=\"dataframe\">\n",
       "  <thead>\n",
       "    <tr style=\"text-align: right;\">\n",
       "      <th></th>\n",
       "      <th>hotel</th>\n",
       "      <th>is_canceled</th>\n",
       "      <th>lead_time</th>\n",
       "      <th>arrival_date_year</th>\n",
       "      <th>arrival_date_month</th>\n",
       "      <th>arrival_date_week_number</th>\n",
       "      <th>arrival_date_day_of_month</th>\n",
       "      <th>stays_in_weekend_nights</th>\n",
       "      <th>stays_in_week_nights</th>\n",
       "      <th>adults</th>\n",
       "      <th>...</th>\n",
       "      <th>customer_type</th>\n",
       "      <th>adr</th>\n",
       "      <th>required_car_parking_spaces</th>\n",
       "      <th>total_of_special_requests</th>\n",
       "      <th>reservation_status</th>\n",
       "      <th>reservation_status_date</th>\n",
       "      <th>name</th>\n",
       "      <th>email</th>\n",
       "      <th>phone-number</th>\n",
       "      <th>credit_card</th>\n",
       "    </tr>\n",
       "  </thead>\n",
       "  <tbody>\n",
       "    <tr>\n",
       "      <th>0</th>\n",
       "      <td>Resort Hotel</td>\n",
       "      <td>0</td>\n",
       "      <td>342</td>\n",
       "      <td>2015</td>\n",
       "      <td>July</td>\n",
       "      <td>27</td>\n",
       "      <td>1</td>\n",
       "      <td>0</td>\n",
       "      <td>0</td>\n",
       "      <td>2</td>\n",
       "      <td>...</td>\n",
       "      <td>Transient</td>\n",
       "      <td>0.0</td>\n",
       "      <td>0</td>\n",
       "      <td>0</td>\n",
       "      <td>Check-Out</td>\n",
       "      <td>2015-07-01</td>\n",
       "      <td>Ernest Barnes</td>\n",
       "      <td>Ernest.Barnes31@outlook.com</td>\n",
       "      <td>669-792-1661</td>\n",
       "      <td>************4322</td>\n",
       "    </tr>\n",
       "    <tr>\n",
       "      <th>1</th>\n",
       "      <td>Resort Hotel</td>\n",
       "      <td>0</td>\n",
       "      <td>737</td>\n",
       "      <td>2015</td>\n",
       "      <td>July</td>\n",
       "      <td>27</td>\n",
       "      <td>1</td>\n",
       "      <td>0</td>\n",
       "      <td>0</td>\n",
       "      <td>2</td>\n",
       "      <td>...</td>\n",
       "      <td>Transient</td>\n",
       "      <td>0.0</td>\n",
       "      <td>0</td>\n",
       "      <td>0</td>\n",
       "      <td>Check-Out</td>\n",
       "      <td>2015-07-01</td>\n",
       "      <td>Andrea Baker</td>\n",
       "      <td>Andrea_Baker94@aol.com</td>\n",
       "      <td>858-637-6955</td>\n",
       "      <td>************9157</td>\n",
       "    </tr>\n",
       "    <tr>\n",
       "      <th>2</th>\n",
       "      <td>Resort Hotel</td>\n",
       "      <td>0</td>\n",
       "      <td>7</td>\n",
       "      <td>2015</td>\n",
       "      <td>July</td>\n",
       "      <td>27</td>\n",
       "      <td>1</td>\n",
       "      <td>0</td>\n",
       "      <td>1</td>\n",
       "      <td>1</td>\n",
       "      <td>...</td>\n",
       "      <td>Transient</td>\n",
       "      <td>75.0</td>\n",
       "      <td>0</td>\n",
       "      <td>0</td>\n",
       "      <td>Check-Out</td>\n",
       "      <td>2015-07-02</td>\n",
       "      <td>Rebecca Parker</td>\n",
       "      <td>Rebecca_Parker@comcast.net</td>\n",
       "      <td>652-885-2745</td>\n",
       "      <td>************3734</td>\n",
       "    </tr>\n",
       "    <tr>\n",
       "      <th>3</th>\n",
       "      <td>Resort Hotel</td>\n",
       "      <td>0</td>\n",
       "      <td>13</td>\n",
       "      <td>2015</td>\n",
       "      <td>July</td>\n",
       "      <td>27</td>\n",
       "      <td>1</td>\n",
       "      <td>0</td>\n",
       "      <td>1</td>\n",
       "      <td>1</td>\n",
       "      <td>...</td>\n",
       "      <td>Transient</td>\n",
       "      <td>75.0</td>\n",
       "      <td>0</td>\n",
       "      <td>0</td>\n",
       "      <td>Check-Out</td>\n",
       "      <td>2015-07-02</td>\n",
       "      <td>Laura Murray</td>\n",
       "      <td>Laura_M@gmail.com</td>\n",
       "      <td>364-656-8427</td>\n",
       "      <td>************5677</td>\n",
       "    </tr>\n",
       "    <tr>\n",
       "      <th>4</th>\n",
       "      <td>Resort Hotel</td>\n",
       "      <td>0</td>\n",
       "      <td>14</td>\n",
       "      <td>2015</td>\n",
       "      <td>July</td>\n",
       "      <td>27</td>\n",
       "      <td>1</td>\n",
       "      <td>0</td>\n",
       "      <td>2</td>\n",
       "      <td>2</td>\n",
       "      <td>...</td>\n",
       "      <td>Transient</td>\n",
       "      <td>98.0</td>\n",
       "      <td>0</td>\n",
       "      <td>1</td>\n",
       "      <td>Check-Out</td>\n",
       "      <td>2015-07-03</td>\n",
       "      <td>Linda Hines</td>\n",
       "      <td>LHines@verizon.com</td>\n",
       "      <td>713-226-5883</td>\n",
       "      <td>************5498</td>\n",
       "    </tr>\n",
       "  </tbody>\n",
       "</table>\n",
       "<p>5 rows × 36 columns</p>\n",
       "</div>"
      ],
      "text/plain": [
       "          hotel  is_canceled  lead_time  arrival_date_year arrival_date_month  \\\n",
       "0  Resort Hotel            0        342               2015               July   \n",
       "1  Resort Hotel            0        737               2015               July   \n",
       "2  Resort Hotel            0          7               2015               July   \n",
       "3  Resort Hotel            0         13               2015               July   \n",
       "4  Resort Hotel            0         14               2015               July   \n",
       "\n",
       "   arrival_date_week_number  arrival_date_day_of_month  \\\n",
       "0                        27                          1   \n",
       "1                        27                          1   \n",
       "2                        27                          1   \n",
       "3                        27                          1   \n",
       "4                        27                          1   \n",
       "\n",
       "   stays_in_weekend_nights  stays_in_week_nights  adults  ...  customer_type  \\\n",
       "0                        0                     0       2  ...      Transient   \n",
       "1                        0                     0       2  ...      Transient   \n",
       "2                        0                     1       1  ...      Transient   \n",
       "3                        0                     1       1  ...      Transient   \n",
       "4                        0                     2       2  ...      Transient   \n",
       "\n",
       "    adr required_car_parking_spaces total_of_special_requests  \\\n",
       "0   0.0                           0                         0   \n",
       "1   0.0                           0                         0   \n",
       "2  75.0                           0                         0   \n",
       "3  75.0                           0                         0   \n",
       "4  98.0                           0                         1   \n",
       "\n",
       "  reservation_status reservation_status_date            name  \\\n",
       "0          Check-Out              2015-07-01   Ernest Barnes   \n",
       "1          Check-Out              2015-07-01    Andrea Baker   \n",
       "2          Check-Out              2015-07-02  Rebecca Parker   \n",
       "3          Check-Out              2015-07-02    Laura Murray   \n",
       "4          Check-Out              2015-07-03     Linda Hines   \n",
       "\n",
       "                         email  phone-number       credit_card  \n",
       "0  Ernest.Barnes31@outlook.com  669-792-1661  ************4322  \n",
       "1       Andrea_Baker94@aol.com  858-637-6955  ************9157  \n",
       "2   Rebecca_Parker@comcast.net  652-885-2745  ************3734  \n",
       "3            Laura_M@gmail.com  364-656-8427  ************5677  \n",
       "4           LHines@verizon.com  713-226-5883  ************5498  \n",
       "\n",
       "[5 rows x 36 columns]"
      ]
     },
     "execution_count": 108,
     "metadata": {},
     "output_type": "execute_result"
    }
   ],
   "source": [
    "hotel_df = pd.read_csv('/Users/kesarsidhu/VS Code/AISC/BP - Winter 2025/hotel_booking.csv')\n",
    "\n",
    "hotel_df.head()\n"
   ]
  },
  {
   "cell_type": "code",
   "execution_count": 109,
   "metadata": {},
   "outputs": [
    {
     "name": "stdout",
     "output_type": "stream",
     "text": [
      "<class 'pandas.core.frame.DataFrame'>\n",
      "RangeIndex: 119390 entries, 0 to 119389\n",
      "Data columns (total 36 columns):\n",
      " #   Column                          Non-Null Count   Dtype  \n",
      "---  ------                          --------------   -----  \n",
      " 0   hotel                           119390 non-null  object \n",
      " 1   is_canceled                     119390 non-null  int64  \n",
      " 2   lead_time                       119390 non-null  int64  \n",
      " 3   arrival_date_year               119390 non-null  int64  \n",
      " 4   arrival_date_month              119390 non-null  object \n",
      " 5   arrival_date_week_number        119390 non-null  int64  \n",
      " 6   arrival_date_day_of_month       119390 non-null  int64  \n",
      " 7   stays_in_weekend_nights         119390 non-null  int64  \n",
      " 8   stays_in_week_nights            119390 non-null  int64  \n",
      " 9   adults                          119390 non-null  int64  \n",
      " 10  children                        119386 non-null  float64\n",
      " 11  babies                          119390 non-null  int64  \n",
      " 12  meal                            119390 non-null  object \n",
      " 13  country                         118902 non-null  object \n",
      " 14  market_segment                  119390 non-null  object \n",
      " 15  distribution_channel            119390 non-null  object \n",
      " 16  is_repeated_guest               119390 non-null  int64  \n",
      " 17  previous_cancellations          119390 non-null  int64  \n",
      " 18  previous_bookings_not_canceled  119390 non-null  int64  \n",
      " 19  reserved_room_type              119390 non-null  object \n",
      " 20  assigned_room_type              119390 non-null  object \n",
      " 21  booking_changes                 119390 non-null  int64  \n",
      " 22  deposit_type                    119390 non-null  object \n",
      " 23  agent                           103050 non-null  float64\n",
      " 24  company                         6797 non-null    float64\n",
      " 25  days_in_waiting_list            119390 non-null  int64  \n",
      " 26  customer_type                   119390 non-null  object \n",
      " 27  adr                             119390 non-null  float64\n",
      " 28  required_car_parking_spaces     119390 non-null  int64  \n",
      " 29  total_of_special_requests       119390 non-null  int64  \n",
      " 30  reservation_status              119390 non-null  object \n",
      " 31  reservation_status_date         119390 non-null  object \n",
      " 32  name                            119390 non-null  object \n",
      " 33  email                           119390 non-null  object \n",
      " 34  phone-number                    119390 non-null  object \n",
      " 35  credit_card                     119390 non-null  object \n",
      "dtypes: float64(4), int64(16), object(16)\n",
      "memory usage: 32.8+ MB\n"
     ]
    }
   ],
   "source": [
    "hotel_df.info()"
   ]
  },
  {
   "cell_type": "markdown",
   "metadata": {},
   "source": [
    "### General Info\n",
    "\n",
    "- Dataset contains 119,390 entries with 36 variables\n",
    "\n",
    "- Data types\n",
    "  - float64 (4): decimal valued-columns\n",
    "  - int64 (16): integer valued-columns\n",
    "  - object (16): categorical/string data\n",
    "\n",
    "- Missing Values:\n",
    "  - Children (4)\n",
    "  - Country (488)\n",
    "  - Agent (16,340)\n",
    "  - Company (112,593)"
   ]
  },
  {
   "cell_type": "code",
   "execution_count": 110,
   "metadata": {},
   "outputs": [
    {
     "data": {
      "text/plain": [
       "hotel                              object\n",
       "is_canceled                        object\n",
       "lead_time                           int64\n",
       "arrival_date_year                  object\n",
       "arrival_date_month                 object\n",
       "arrival_date_week_number            int64\n",
       "arrival_date_day_of_month           int64\n",
       "stays_in_weekend_nights             int64\n",
       "stays_in_week_nights                int64\n",
       "adults                              int64\n",
       "children                          float64\n",
       "babies                              int64\n",
       "meal                               object\n",
       "country                            object\n",
       "market_segment                     object\n",
       "distribution_channel               object\n",
       "is_repeated_guest                  object\n",
       "previous_cancellations              int64\n",
       "previous_bookings_not_canceled      int64\n",
       "reserved_room_type                 object\n",
       "assigned_room_type                 object\n",
       "booking_changes                     int64\n",
       "deposit_type                       object\n",
       "agent                              object\n",
       "company                            object\n",
       "days_in_waiting_list                int64\n",
       "customer_type                      object\n",
       "adr                               float64\n",
       "required_car_parking_spaces         int64\n",
       "total_of_special_requests           int64\n",
       "reservation_status                 object\n",
       "reservation_status_date            object\n",
       "name                               object\n",
       "email                              object\n",
       "phone-number                       object\n",
       "credit_card                        object\n",
       "dtype: object"
      ]
     },
     "execution_count": 110,
     "metadata": {},
     "output_type": "execute_result"
    }
   ],
   "source": [
    "# Since majority of our columns are objects, we will be working with them a lot\n",
    "# To ensure they're in the right object format (string), and don't consist of mix data types\n",
    "\n",
    "categorical_columns = [\n",
    "    'hotel',\n",
    "    'is_canceled',\n",
    "    'arrival_date_year',\n",
    "    'arrival_date_month',\n",
    "    'meal',\n",
    "    'country',\n",
    "    'market_segment',\n",
    "    'distribution_channel',\n",
    "    'is_repeated_guest',\n",
    "    'reserved_room_type',\n",
    "    'assigned_room_type',\n",
    "    'deposit_type',\n",
    "    'agent',\n",
    "    'company',\n",
    "    'customer_type',\n",
    "    'reservation_status',\n",
    "    'name',\n",
    "    'email',\n",
    "    'phone-number',\n",
    "    'credit_card'\n",
    "]\n",
    "\n",
    "# Convert all columns to string\n",
    "for column in categorical_columns:\n",
    "    hotel_df[column] = hotel_df[column].astype(str)\n",
    "\n",
    "# Check if the columns have been converted to string \n",
    "hotel_df.dtypes"
   ]
  },
  {
   "cell_type": "code",
   "execution_count": 111,
   "metadata": {},
   "outputs": [
    {
     "data": {
      "application/vnd.microsoft.datawrangler.viewer.v0+json": {
       "columns": [
        {
         "name": "index",
         "rawType": "object",
         "type": "string"
        },
        {
         "name": "lead_time",
         "rawType": "float64",
         "type": "float"
        },
        {
         "name": "arrival_date_week_number",
         "rawType": "float64",
         "type": "float"
        },
        {
         "name": "arrival_date_day_of_month",
         "rawType": "float64",
         "type": "float"
        },
        {
         "name": "stays_in_weekend_nights",
         "rawType": "float64",
         "type": "float"
        },
        {
         "name": "stays_in_week_nights",
         "rawType": "float64",
         "type": "float"
        },
        {
         "name": "adults",
         "rawType": "float64",
         "type": "float"
        },
        {
         "name": "children",
         "rawType": "float64",
         "type": "float"
        },
        {
         "name": "babies",
         "rawType": "float64",
         "type": "float"
        },
        {
         "name": "previous_cancellations",
         "rawType": "float64",
         "type": "float"
        },
        {
         "name": "previous_bookings_not_canceled",
         "rawType": "float64",
         "type": "float"
        },
        {
         "name": "booking_changes",
         "rawType": "float64",
         "type": "float"
        },
        {
         "name": "days_in_waiting_list",
         "rawType": "float64",
         "type": "float"
        },
        {
         "name": "adr",
         "rawType": "float64",
         "type": "float"
        },
        {
         "name": "required_car_parking_spaces",
         "rawType": "float64",
         "type": "float"
        },
        {
         "name": "total_of_special_requests",
         "rawType": "float64",
         "type": "float"
        }
       ],
       "conversionMethod": "pd.DataFrame",
       "ref": "4177c881-1eee-4546-8e56-c1247b72c9e4",
       "rows": [
        [
         "count",
         "119390.0",
         "119390.0",
         "119390.0",
         "119390.0",
         "119390.0",
         "119390.0",
         "119386.0",
         "119390.0",
         "119390.0",
         "119390.0",
         "119390.0",
         "119390.0",
         "119390.0",
         "119390.0",
         "119390.0"
        ],
        [
         "mean",
         "104.01141636652986",
         "27.16517296255968",
         "15.798241058715135",
         "0.9275986263506156",
         "2.500301532791691",
         "1.8564033838679956",
         "0.10388990333874994",
         "0.007948739425412514",
         "0.08711784906608594",
         "0.13709690928888515",
         "0.22112404724013737",
         "2.321149174972778",
         "101.83112153446686",
         "0.06251779881062065",
         "0.5713627607002262"
        ],
        [
         "std",
         "106.86309704798579",
         "13.605138355498454",
         "8.78082947057908",
         "0.9986134945978056",
         "1.9082856150485297",
         "0.5792609988330665",
         "0.398561444786706",
         "0.09743619130130332",
         "0.8443363841518937",
         "1.4974368477089455",
         "0.6523055726747069",
         "17.594720878752014",
         "50.5357902855456",
         "0.24529114746719846",
         "0.7927984228089581"
        ],
        [
         "min",
         "0.0",
         "1.0",
         "1.0",
         "0.0",
         "0.0",
         "0.0",
         "0.0",
         "0.0",
         "0.0",
         "0.0",
         "0.0",
         "0.0",
         "-6.38",
         "0.0",
         "0.0"
        ],
        [
         "25%",
         "18.0",
         "16.0",
         "8.0",
         "0.0",
         "1.0",
         "2.0",
         "0.0",
         "0.0",
         "0.0",
         "0.0",
         "0.0",
         "0.0",
         "69.29",
         "0.0",
         "0.0"
        ],
        [
         "50%",
         "69.0",
         "28.0",
         "16.0",
         "1.0",
         "2.0",
         "2.0",
         "0.0",
         "0.0",
         "0.0",
         "0.0",
         "0.0",
         "0.0",
         "94.575",
         "0.0",
         "0.0"
        ],
        [
         "75%",
         "160.0",
         "38.0",
         "23.0",
         "2.0",
         "3.0",
         "2.0",
         "0.0",
         "0.0",
         "0.0",
         "0.0",
         "0.0",
         "0.0",
         "126.0",
         "0.0",
         "1.0"
        ],
        [
         "max",
         "737.0",
         "53.0",
         "31.0",
         "19.0",
         "50.0",
         "55.0",
         "10.0",
         "10.0",
         "26.0",
         "72.0",
         "21.0",
         "391.0",
         "5400.0",
         "8.0",
         "5.0"
        ]
       ],
       "shape": {
        "columns": 15,
        "rows": 8
       }
      },
      "text/html": [
       "<div>\n",
       "<style scoped>\n",
       "    .dataframe tbody tr th:only-of-type {\n",
       "        vertical-align: middle;\n",
       "    }\n",
       "\n",
       "    .dataframe tbody tr th {\n",
       "        vertical-align: top;\n",
       "    }\n",
       "\n",
       "    .dataframe thead th {\n",
       "        text-align: right;\n",
       "    }\n",
       "</style>\n",
       "<table border=\"1\" class=\"dataframe\">\n",
       "  <thead>\n",
       "    <tr style=\"text-align: right;\">\n",
       "      <th></th>\n",
       "      <th>lead_time</th>\n",
       "      <th>arrival_date_week_number</th>\n",
       "      <th>arrival_date_day_of_month</th>\n",
       "      <th>stays_in_weekend_nights</th>\n",
       "      <th>stays_in_week_nights</th>\n",
       "      <th>adults</th>\n",
       "      <th>children</th>\n",
       "      <th>babies</th>\n",
       "      <th>previous_cancellations</th>\n",
       "      <th>previous_bookings_not_canceled</th>\n",
       "      <th>booking_changes</th>\n",
       "      <th>days_in_waiting_list</th>\n",
       "      <th>adr</th>\n",
       "      <th>required_car_parking_spaces</th>\n",
       "      <th>total_of_special_requests</th>\n",
       "    </tr>\n",
       "  </thead>\n",
       "  <tbody>\n",
       "    <tr>\n",
       "      <th>count</th>\n",
       "      <td>119390.000000</td>\n",
       "      <td>119390.000000</td>\n",
       "      <td>119390.000000</td>\n",
       "      <td>119390.000000</td>\n",
       "      <td>119390.000000</td>\n",
       "      <td>119390.000000</td>\n",
       "      <td>119386.000000</td>\n",
       "      <td>119390.000000</td>\n",
       "      <td>119390.000000</td>\n",
       "      <td>119390.000000</td>\n",
       "      <td>119390.000000</td>\n",
       "      <td>119390.000000</td>\n",
       "      <td>119390.000000</td>\n",
       "      <td>119390.000000</td>\n",
       "      <td>119390.000000</td>\n",
       "    </tr>\n",
       "    <tr>\n",
       "      <th>mean</th>\n",
       "      <td>104.011416</td>\n",
       "      <td>27.165173</td>\n",
       "      <td>15.798241</td>\n",
       "      <td>0.927599</td>\n",
       "      <td>2.500302</td>\n",
       "      <td>1.856403</td>\n",
       "      <td>0.103890</td>\n",
       "      <td>0.007949</td>\n",
       "      <td>0.087118</td>\n",
       "      <td>0.137097</td>\n",
       "      <td>0.221124</td>\n",
       "      <td>2.321149</td>\n",
       "      <td>101.831122</td>\n",
       "      <td>0.062518</td>\n",
       "      <td>0.571363</td>\n",
       "    </tr>\n",
       "    <tr>\n",
       "      <th>std</th>\n",
       "      <td>106.863097</td>\n",
       "      <td>13.605138</td>\n",
       "      <td>8.780829</td>\n",
       "      <td>0.998613</td>\n",
       "      <td>1.908286</td>\n",
       "      <td>0.579261</td>\n",
       "      <td>0.398561</td>\n",
       "      <td>0.097436</td>\n",
       "      <td>0.844336</td>\n",
       "      <td>1.497437</td>\n",
       "      <td>0.652306</td>\n",
       "      <td>17.594721</td>\n",
       "      <td>50.535790</td>\n",
       "      <td>0.245291</td>\n",
       "      <td>0.792798</td>\n",
       "    </tr>\n",
       "    <tr>\n",
       "      <th>min</th>\n",
       "      <td>0.000000</td>\n",
       "      <td>1.000000</td>\n",
       "      <td>1.000000</td>\n",
       "      <td>0.000000</td>\n",
       "      <td>0.000000</td>\n",
       "      <td>0.000000</td>\n",
       "      <td>0.000000</td>\n",
       "      <td>0.000000</td>\n",
       "      <td>0.000000</td>\n",
       "      <td>0.000000</td>\n",
       "      <td>0.000000</td>\n",
       "      <td>0.000000</td>\n",
       "      <td>-6.380000</td>\n",
       "      <td>0.000000</td>\n",
       "      <td>0.000000</td>\n",
       "    </tr>\n",
       "    <tr>\n",
       "      <th>25%</th>\n",
       "      <td>18.000000</td>\n",
       "      <td>16.000000</td>\n",
       "      <td>8.000000</td>\n",
       "      <td>0.000000</td>\n",
       "      <td>1.000000</td>\n",
       "      <td>2.000000</td>\n",
       "      <td>0.000000</td>\n",
       "      <td>0.000000</td>\n",
       "      <td>0.000000</td>\n",
       "      <td>0.000000</td>\n",
       "      <td>0.000000</td>\n",
       "      <td>0.000000</td>\n",
       "      <td>69.290000</td>\n",
       "      <td>0.000000</td>\n",
       "      <td>0.000000</td>\n",
       "    </tr>\n",
       "    <tr>\n",
       "      <th>50%</th>\n",
       "      <td>69.000000</td>\n",
       "      <td>28.000000</td>\n",
       "      <td>16.000000</td>\n",
       "      <td>1.000000</td>\n",
       "      <td>2.000000</td>\n",
       "      <td>2.000000</td>\n",
       "      <td>0.000000</td>\n",
       "      <td>0.000000</td>\n",
       "      <td>0.000000</td>\n",
       "      <td>0.000000</td>\n",
       "      <td>0.000000</td>\n",
       "      <td>0.000000</td>\n",
       "      <td>94.575000</td>\n",
       "      <td>0.000000</td>\n",
       "      <td>0.000000</td>\n",
       "    </tr>\n",
       "    <tr>\n",
       "      <th>75%</th>\n",
       "      <td>160.000000</td>\n",
       "      <td>38.000000</td>\n",
       "      <td>23.000000</td>\n",
       "      <td>2.000000</td>\n",
       "      <td>3.000000</td>\n",
       "      <td>2.000000</td>\n",
       "      <td>0.000000</td>\n",
       "      <td>0.000000</td>\n",
       "      <td>0.000000</td>\n",
       "      <td>0.000000</td>\n",
       "      <td>0.000000</td>\n",
       "      <td>0.000000</td>\n",
       "      <td>126.000000</td>\n",
       "      <td>0.000000</td>\n",
       "      <td>1.000000</td>\n",
       "    </tr>\n",
       "    <tr>\n",
       "      <th>max</th>\n",
       "      <td>737.000000</td>\n",
       "      <td>53.000000</td>\n",
       "      <td>31.000000</td>\n",
       "      <td>19.000000</td>\n",
       "      <td>50.000000</td>\n",
       "      <td>55.000000</td>\n",
       "      <td>10.000000</td>\n",
       "      <td>10.000000</td>\n",
       "      <td>26.000000</td>\n",
       "      <td>72.000000</td>\n",
       "      <td>21.000000</td>\n",
       "      <td>391.000000</td>\n",
       "      <td>5400.000000</td>\n",
       "      <td>8.000000</td>\n",
       "      <td>5.000000</td>\n",
       "    </tr>\n",
       "  </tbody>\n",
       "</table>\n",
       "</div>"
      ],
      "text/plain": [
       "           lead_time  arrival_date_week_number  arrival_date_day_of_month  \\\n",
       "count  119390.000000             119390.000000              119390.000000   \n",
       "mean      104.011416                 27.165173                  15.798241   \n",
       "std       106.863097                 13.605138                   8.780829   \n",
       "min         0.000000                  1.000000                   1.000000   \n",
       "25%        18.000000                 16.000000                   8.000000   \n",
       "50%        69.000000                 28.000000                  16.000000   \n",
       "75%       160.000000                 38.000000                  23.000000   \n",
       "max       737.000000                 53.000000                  31.000000   \n",
       "\n",
       "       stays_in_weekend_nights  stays_in_week_nights         adults  \\\n",
       "count            119390.000000         119390.000000  119390.000000   \n",
       "mean                  0.927599              2.500302       1.856403   \n",
       "std                   0.998613              1.908286       0.579261   \n",
       "min                   0.000000              0.000000       0.000000   \n",
       "25%                   0.000000              1.000000       2.000000   \n",
       "50%                   1.000000              2.000000       2.000000   \n",
       "75%                   2.000000              3.000000       2.000000   \n",
       "max                  19.000000             50.000000      55.000000   \n",
       "\n",
       "            children         babies  previous_cancellations  \\\n",
       "count  119386.000000  119390.000000           119390.000000   \n",
       "mean        0.103890       0.007949                0.087118   \n",
       "std         0.398561       0.097436                0.844336   \n",
       "min         0.000000       0.000000                0.000000   \n",
       "25%         0.000000       0.000000                0.000000   \n",
       "50%         0.000000       0.000000                0.000000   \n",
       "75%         0.000000       0.000000                0.000000   \n",
       "max        10.000000      10.000000               26.000000   \n",
       "\n",
       "       previous_bookings_not_canceled  booking_changes  days_in_waiting_list  \\\n",
       "count                   119390.000000    119390.000000         119390.000000   \n",
       "mean                         0.137097         0.221124              2.321149   \n",
       "std                          1.497437         0.652306             17.594721   \n",
       "min                          0.000000         0.000000              0.000000   \n",
       "25%                          0.000000         0.000000              0.000000   \n",
       "50%                          0.000000         0.000000              0.000000   \n",
       "75%                          0.000000         0.000000              0.000000   \n",
       "max                         72.000000        21.000000            391.000000   \n",
       "\n",
       "                 adr  required_car_parking_spaces  total_of_special_requests  \n",
       "count  119390.000000                119390.000000              119390.000000  \n",
       "mean      101.831122                     0.062518                   0.571363  \n",
       "std        50.535790                     0.245291                   0.792798  \n",
       "min        -6.380000                     0.000000                   0.000000  \n",
       "25%        69.290000                     0.000000                   0.000000  \n",
       "50%        94.575000                     0.000000                   0.000000  \n",
       "75%       126.000000                     0.000000                   1.000000  \n",
       "max      5400.000000                     8.000000                   5.000000  "
      ]
     },
     "execution_count": 111,
     "metadata": {},
     "output_type": "execute_result"
    }
   ],
   "source": [
    "# Summary statistics for numerical columns\n",
    "\n",
    "hotel_df.describe()"
   ]
  },
  {
   "cell_type": "markdown",
   "metadata": {},
   "source": [
    "### Insights:\n",
    "\n",
    "- Lead_time: From 0-737 days, average time between booking and arrival is around 104 days (reservations are made 3-4 months in advance)\n",
    "\n",
    "- Arrival_date_week_number: From 1-53 weeks, average arrival week is around week 27 (mid-year).\n",
    "\n",
    "- Arrival_date_day_of_month: From 1-31 days, average arrival day is around the 16th of the month.\n",
    "\n",
    "- Stays_in_weekend_nights: From 0-19 nights, guests stay around 1 weekend night on average.\n",
    "\n",
    "- Stays_in_week_nights: From 0-50 nights, guests stay around 2-3 weeknights on average.\n",
    "\n",
    "- Adults: From 0-55 adults, most bookings have about 2 adults on average.\n",
    "\n",
    "- Children: From 0-10 children, most bookings have about 0-1 child on average.\n",
    "\n",
    "- Babies: From 0-10 babies, the average number of babies per booking is almost 0.\n",
    "\n",
    "- Previous_cancellations: From 0-26, guests canceled about 0.1 times on average.\n",
    "\n",
    "- Previous_bookings_not_canceled: From 0-72, guests have about 0.1 past bookings they didn’t cancel on average.\n",
    "\n",
    "- Booking_changes: From 0-21, bookings are changed about 0.2 times on average.\n",
    "\n",
    "- Days_in_waiting_list: From 0-391 days, bookings spend around 2 days on the waiting list on average.\n",
    "\n",
    "- Adr (Average Daily Rate): From -6.38 to 5400, the average daily rate is about 102 (negative values may indicate errors or special cases).\n",
    "\n",
    "- Required_car_parking_spaces: From 0-8, guests require about 0.06 parking spaces on average.\n",
    "\n",
    "- Total_of_special_requests: From 0-5, guests make about 0.6 special requests on average.\n",
    "\n",
    "---------------------------------------------------------\n",
    "\n",
    "### General Inferences:\n",
    "\n",
    "- Guests who book far in advance (average 104 days) may have a higher chance of canceling, as plans made months ahead are more likely to change.\n",
    "\n",
    "- Guests with multiple previous cancellations may have a higher probability of canceling future bookings.\n",
    "\n",
    "- Bookings with frequent changes or multiple special requests may indicate indecisive behavior, which could be linked to cancellation risk.\n",
    "\n",
    "- Longer time spent on waiting list could lead to greater lost interest by guest\n",
    "\n",
    "\n",
    "---------------------------------------------------------\n",
    "\n",
    "### Noticeable Errors:\n",
    "- ADR represents avg. amount guest pays for a room per day. Minimum values of -6.38 isn't logical\n",
    "\n",
    "- Some values for adults are 0, indicating bookings without any adults. Possible error unless children book the room themselves\n",
    "\n",
    "- Children and babies have a max value of 10. For a single booking it seems fairly high. Possible error, unless size of room is huge (more context needed)"
   ]
  },
  {
   "cell_type": "code",
   "execution_count": 112,
   "metadata": {},
   "outputs": [
    {
     "data": {
      "application/vnd.microsoft.datawrangler.viewer.v0+json": {
       "columns": [
        {
         "name": "index",
         "rawType": "object",
         "type": "string"
        },
        {
         "name": "hotel",
         "rawType": "object",
         "type": "string"
        },
        {
         "name": "is_canceled",
         "rawType": "object",
         "type": "string"
        },
        {
         "name": "arrival_date_year",
         "rawType": "object",
         "type": "string"
        },
        {
         "name": "arrival_date_month",
         "rawType": "object",
         "type": "string"
        },
        {
         "name": "meal",
         "rawType": "object",
         "type": "string"
        },
        {
         "name": "country",
         "rawType": "object",
         "type": "string"
        },
        {
         "name": "market_segment",
         "rawType": "object",
         "type": "string"
        },
        {
         "name": "distribution_channel",
         "rawType": "object",
         "type": "string"
        },
        {
         "name": "is_repeated_guest",
         "rawType": "object",
         "type": "string"
        },
        {
         "name": "reserved_room_type",
         "rawType": "object",
         "type": "string"
        },
        {
         "name": "assigned_room_type",
         "rawType": "object",
         "type": "string"
        },
        {
         "name": "deposit_type",
         "rawType": "object",
         "type": "string"
        },
        {
         "name": "agent",
         "rawType": "object",
         "type": "string"
        },
        {
         "name": "company",
         "rawType": "object",
         "type": "string"
        },
        {
         "name": "customer_type",
         "rawType": "object",
         "type": "string"
        },
        {
         "name": "reservation_status",
         "rawType": "object",
         "type": "string"
        },
        {
         "name": "reservation_status_date",
         "rawType": "object",
         "type": "string"
        },
        {
         "name": "name",
         "rawType": "object",
         "type": "string"
        },
        {
         "name": "email",
         "rawType": "object",
         "type": "string"
        },
        {
         "name": "phone-number",
         "rawType": "object",
         "type": "string"
        },
        {
         "name": "credit_card",
         "rawType": "object",
         "type": "string"
        }
       ],
       "conversionMethod": "pd.DataFrame",
       "ref": "d0db2ae2-88a7-42b4-a934-3254ebf3e9da",
       "rows": [
        [
         "count",
         "119390",
         "119390",
         "119390",
         "119390",
         "119390",
         "119390",
         "119390",
         "119390",
         "119390",
         "119390",
         "119390",
         "119390",
         "119390",
         "119390",
         "119390",
         "119390",
         "119390",
         "119390",
         "119390",
         "119390",
         "119390"
        ],
        [
         "unique",
         "2",
         "2",
         "3",
         "12",
         "5",
         "178",
         "8",
         "5",
         "2",
         "10",
         "12",
         "3",
         "334",
         "353",
         "4",
         "3",
         "926",
         "81503",
         "115889",
         "119390",
         "9000"
        ],
        [
         "top",
         "City Hotel",
         "0",
         "2016",
         "August",
         "BB",
         "PRT",
         "Online TA",
         "TA/TO",
         "0",
         "A",
         "A",
         "No Deposit",
         "9.0",
         "nan",
         "Transient",
         "Check-Out",
         "2015-10-21",
         "Michael Johnson",
         "Michael.C@gmail.com",
         "669-792-1661",
         "************4923"
        ],
        [
         "freq",
         "79330",
         "75166",
         "56707",
         "13877",
         "92310",
         "48590",
         "56477",
         "97870",
         "115580",
         "85994",
         "74053",
         "104641",
         "31961",
         "112593",
         "89613",
         "75166",
         "1461",
         "48",
         "6",
         "1",
         "28"
        ]
       ],
       "shape": {
        "columns": 21,
        "rows": 4
       }
      },
      "text/html": [
       "<div>\n",
       "<style scoped>\n",
       "    .dataframe tbody tr th:only-of-type {\n",
       "        vertical-align: middle;\n",
       "    }\n",
       "\n",
       "    .dataframe tbody tr th {\n",
       "        vertical-align: top;\n",
       "    }\n",
       "\n",
       "    .dataframe thead th {\n",
       "        text-align: right;\n",
       "    }\n",
       "</style>\n",
       "<table border=\"1\" class=\"dataframe\">\n",
       "  <thead>\n",
       "    <tr style=\"text-align: right;\">\n",
       "      <th></th>\n",
       "      <th>hotel</th>\n",
       "      <th>is_canceled</th>\n",
       "      <th>arrival_date_year</th>\n",
       "      <th>arrival_date_month</th>\n",
       "      <th>meal</th>\n",
       "      <th>country</th>\n",
       "      <th>market_segment</th>\n",
       "      <th>distribution_channel</th>\n",
       "      <th>is_repeated_guest</th>\n",
       "      <th>reserved_room_type</th>\n",
       "      <th>...</th>\n",
       "      <th>deposit_type</th>\n",
       "      <th>agent</th>\n",
       "      <th>company</th>\n",
       "      <th>customer_type</th>\n",
       "      <th>reservation_status</th>\n",
       "      <th>reservation_status_date</th>\n",
       "      <th>name</th>\n",
       "      <th>email</th>\n",
       "      <th>phone-number</th>\n",
       "      <th>credit_card</th>\n",
       "    </tr>\n",
       "  </thead>\n",
       "  <tbody>\n",
       "    <tr>\n",
       "      <th>count</th>\n",
       "      <td>119390</td>\n",
       "      <td>119390</td>\n",
       "      <td>119390</td>\n",
       "      <td>119390</td>\n",
       "      <td>119390</td>\n",
       "      <td>119390</td>\n",
       "      <td>119390</td>\n",
       "      <td>119390</td>\n",
       "      <td>119390</td>\n",
       "      <td>119390</td>\n",
       "      <td>...</td>\n",
       "      <td>119390</td>\n",
       "      <td>119390</td>\n",
       "      <td>119390</td>\n",
       "      <td>119390</td>\n",
       "      <td>119390</td>\n",
       "      <td>119390</td>\n",
       "      <td>119390</td>\n",
       "      <td>119390</td>\n",
       "      <td>119390</td>\n",
       "      <td>119390</td>\n",
       "    </tr>\n",
       "    <tr>\n",
       "      <th>unique</th>\n",
       "      <td>2</td>\n",
       "      <td>2</td>\n",
       "      <td>3</td>\n",
       "      <td>12</td>\n",
       "      <td>5</td>\n",
       "      <td>178</td>\n",
       "      <td>8</td>\n",
       "      <td>5</td>\n",
       "      <td>2</td>\n",
       "      <td>10</td>\n",
       "      <td>...</td>\n",
       "      <td>3</td>\n",
       "      <td>334</td>\n",
       "      <td>353</td>\n",
       "      <td>4</td>\n",
       "      <td>3</td>\n",
       "      <td>926</td>\n",
       "      <td>81503</td>\n",
       "      <td>115889</td>\n",
       "      <td>119390</td>\n",
       "      <td>9000</td>\n",
       "    </tr>\n",
       "    <tr>\n",
       "      <th>top</th>\n",
       "      <td>City Hotel</td>\n",
       "      <td>0</td>\n",
       "      <td>2016</td>\n",
       "      <td>August</td>\n",
       "      <td>BB</td>\n",
       "      <td>PRT</td>\n",
       "      <td>Online TA</td>\n",
       "      <td>TA/TO</td>\n",
       "      <td>0</td>\n",
       "      <td>A</td>\n",
       "      <td>...</td>\n",
       "      <td>No Deposit</td>\n",
       "      <td>9.0</td>\n",
       "      <td>nan</td>\n",
       "      <td>Transient</td>\n",
       "      <td>Check-Out</td>\n",
       "      <td>2015-10-21</td>\n",
       "      <td>Michael Johnson</td>\n",
       "      <td>Michael.C@gmail.com</td>\n",
       "      <td>669-792-1661</td>\n",
       "      <td>************4923</td>\n",
       "    </tr>\n",
       "    <tr>\n",
       "      <th>freq</th>\n",
       "      <td>79330</td>\n",
       "      <td>75166</td>\n",
       "      <td>56707</td>\n",
       "      <td>13877</td>\n",
       "      <td>92310</td>\n",
       "      <td>48590</td>\n",
       "      <td>56477</td>\n",
       "      <td>97870</td>\n",
       "      <td>115580</td>\n",
       "      <td>85994</td>\n",
       "      <td>...</td>\n",
       "      <td>104641</td>\n",
       "      <td>31961</td>\n",
       "      <td>112593</td>\n",
       "      <td>89613</td>\n",
       "      <td>75166</td>\n",
       "      <td>1461</td>\n",
       "      <td>48</td>\n",
       "      <td>6</td>\n",
       "      <td>1</td>\n",
       "      <td>28</td>\n",
       "    </tr>\n",
       "  </tbody>\n",
       "</table>\n",
       "<p>4 rows × 21 columns</p>\n",
       "</div>"
      ],
      "text/plain": [
       "             hotel is_canceled arrival_date_year arrival_date_month    meal  \\\n",
       "count       119390      119390            119390             119390  119390   \n",
       "unique           2           2                 3                 12       5   \n",
       "top     City Hotel           0              2016             August      BB   \n",
       "freq         79330       75166             56707              13877   92310   \n",
       "\n",
       "       country market_segment distribution_channel is_repeated_guest  \\\n",
       "count   119390         119390               119390            119390   \n",
       "unique     178              8                    5                 2   \n",
       "top        PRT      Online TA                TA/TO                 0   \n",
       "freq     48590          56477                97870            115580   \n",
       "\n",
       "       reserved_room_type  ... deposit_type   agent company customer_type  \\\n",
       "count              119390  ...       119390  119390  119390        119390   \n",
       "unique                 10  ...            3     334     353             4   \n",
       "top                     A  ...   No Deposit     9.0     nan     Transient   \n",
       "freq                85994  ...       104641   31961  112593         89613   \n",
       "\n",
       "       reservation_status reservation_status_date             name  \\\n",
       "count              119390                  119390           119390   \n",
       "unique                  3                     926            81503   \n",
       "top             Check-Out              2015-10-21  Michael Johnson   \n",
       "freq                75166                    1461               48   \n",
       "\n",
       "                      email  phone-number       credit_card  \n",
       "count                119390        119390            119390  \n",
       "unique               115889        119390              9000  \n",
       "top     Michael.C@gmail.com  669-792-1661  ************4923  \n",
       "freq                      6             1                28  \n",
       "\n",
       "[4 rows x 21 columns]"
      ]
     },
     "execution_count": 112,
     "metadata": {},
     "output_type": "execute_result"
    }
   ],
   "source": [
    "# Summary statistics for categorical columns\n",
    "\n",
    "hotel_df.describe(include = \"object\") "
   ]
  },
  {
   "cell_type": "markdown",
   "metadata": {},
   "source": [
    "### Insights:\n",
    "\n",
    "- Hotel: There are two hotel types. \"City Hotel\" is the most common, with 79,330 bookings out of 119,390 total entries.\n",
    "\n",
    "- Is Canceled: Guests either canceled (1) or did not cancel (0). Most bookings (75,166) were not canceled.\n",
    "\n",
    "- Arrival Date Year: Bookings span three years, with 2016 being the most common (56,707 bookings).\n",
    "\n",
    "- Arrival Date Month: Guests arrived in all 12 months. August is the busiest, with 13,877 arrivals.\n",
    "\n",
    "- Meal: Five meal types are available. \"BB\" (Bed and Breakfast) is the most popular, booked 92,310 times.\n",
    "\n",
    "- Country: Guests come from 178 countries. Most are from Portugal (\"PRT\"), with 48,590 entries.\n",
    "\n",
    "- Market Segment: There are eight market segments. \"Online TA\" (Online Travel Agents) is the most common, with 56,477 bookings.\n",
    "\n",
    "- Distribution Channel: Bookings are made through five channels. \"TA/TO\" (Travel Agent/Tour Operator) is the most popular, used 97,870 times.\n",
    "\n",
    "- Is Repeated Guest: Most guests are not repeated visitors (0), making up the majority of bookings.\n",
    "\n",
    "- Room Types: Guests reserve and are assigned various room types, with some room categories being more common.\n",
    "\n",
    "- Deposit Type: Three deposit types exist. \"No Deposit\" is the most frequent, with 104,641 bookings.\n",
    "\n",
    "- Agent: There are 334 booking agents. The most common is agent '9.0', used 31,961 times.\n",
    "\n",
    "- Company: Among 353 companies, most entries are missing (\"NaN\"), appearing in 112,593 bookings.\n",
    "\n",
    "- Customer Type: Guests fall into four categories. Most are \"Transient\" customers (89,613 bookings).\n",
    "\n",
    "- Reservation Status: Three statuses exist. \"Check-Out\" is the most frequent, recorded 75,166 times.\n",
    "\n",
    "- Reservation Status Date: There are 926 unique status dates. The most frequent is \"2015-10-21,\" with 1,461 occurrences.\n",
    "\n",
    "- Name: There are 81,503 unique guest names. \"Michael Johnson\" appears the most, 48 times.\n",
    "\n",
    "- Email: Most email addresses are unique, with 115,889 distinct entries. \"Michael.C@gmail.com\" is the most frequent, appearing six times.\n",
    "\n",
    "- Phone Number: Almost all guests have unique phone numbers, with 119,390 different entries.\n",
    "\n",
    "- Credit Card: Among 9,000 unique credit cards, \"**4923\" appears the most, 28 times.\n",
    "\n",
    "---------------------------------------------------------\n",
    "\n",
    "### General Inferences:\n",
    "\n",
    "- Since most bookings are not canceled (is_canceled = 0), it suggests that guests tend to honor their reservations\n",
    "\n",
    "- City Hotels are preferred, indicating that guests favor staying in cities for their trips.\n",
    "\n",
    "- Many missing company values show that most guests aren’t booking through companies."
   ]
  },
  {
   "cell_type": "markdown",
   "metadata": {},
   "source": [
    "# Preprocessing\n",
    "\n",
    "Aim towards cleaning and transforming raw data into a format for machine learning algorithms to comprehend\n",
    "\n",
    "### 1) Feature Selection\n",
    "\n",
    "By removing unnecessary features early, you can save time and effort in later steps like cleaning, encoding, scaling \n",
    "\n",
    "Few Things to Keep in Mind During this Process:\n",
    "\n",
    "1) Avoid Related Features: variable is highly correlated with the target, causing model to cheat. Uses information that wouldn't be available when making predictions\n",
    "\n",
    "2) Irrelevant Features: get rid of features that don't contribute meaningful information, some variables have no correlation\n",
    "\n",
    "3) High Cardinality Features: some categorical variables have too many unique values, which could cause over-fitting. Extract useful information and then drop them.\n"
   ]
  },
  {
   "cell_type": "markdown",
   "metadata": {},
   "source": [
    "#### Dropping Related Features:\n",
    "\n",
    "1) Reservation_status: literally states the outcome of the reservation. If model has access to this column, it'll just memorize the outcome\n",
    "\n",
    "2) Reservation_status_date: contains information of when the data of cancellation was. Since we're forecasting future cancellation, we wouldn't have this information yet\n",
    "\n",
    "3) Assigned_room_type: could give the model hints about whether the booking was canceled, but only because the room assignment is a step that follows the booking. If the booking is canceled, the room might not be assigned at all.\n",
    "\n"
   ]
  },
  {
   "cell_type": "code",
   "execution_count": 113,
   "metadata": {},
   "outputs": [
    {
     "data": {
      "image/png": "[encoded data removed]",
      "text/plain": [
       "<Figure size 1000x500 with 1 Axes>"
      ]
     },
     "metadata": {},
     "output_type": "display_data"
    }
   ],
   "source": [
    "# Dropping reservation_status: \n",
    "\n",
    "plt.figure(figsize=(10, 5))\n",
    "sns.countplot(x='reservation_status', hue='is_canceled', data= hotel_df)\n",
    "plt.title('Count of Cancellations by Reservation Status')\n",
    "plt.xlabel('Reservation Status')\n",
    "plt.ylabel('Count')\n",
    "plt.legend(title='Is Canceled', labels=['Not Canceled', 'Canceled'])\n",
    "plt.show()\n",
    "\n",
    "hotel_df = hotel_df.drop(['reservation_status'], axis=1)\n",
    "\n"
   ]
  },
  {
   "cell_type": "markdown",
   "metadata": {},
   "source": [
    "The plot shows that all bookings with a \"Canceled\" or \"No-Show\" status are actually canceled (is_canceled = 1), and all bookings with a \"Check-Out\" status are not canceled (is_canceled = 0).\n",
    "\n",
    "This means the reservation_status feature is directly tied to the is_canceled variable, and using it in the model would leak information."
   ]
  },
  {
   "cell_type": "code",
   "execution_count": 114,
   "metadata": {},
   "outputs": [
    {
     "data": {
      "image/png": "[encoded data removed]",
      "text/plain": [
       "<Figure size 1200x400 with 1 Axes>"
      ]
     },
     "metadata": {},
     "output_type": "display_data"
    }
   ],
   "source": [
    "# Dropping reservation_status_date:\n",
    "\n",
    "# Converting to datetime formate for easier to work with dates easier\n",
    "hotel_df['reservation_status_date'] = pd.to_datetime(hotel_df['reservation_status_date'])\n",
    "\n",
    "# Creating a new column to calculate the difference between the reservation_status_date and the arrival date\n",
    "hotel_df['reservation_status_days_difference'] = (hotel_df['reservation_status_date'] - pd.to_datetime(hotel_df['arrival_date_year'].astype(str) + '-' + hotel_df['arrival_date_month'] + '-' + hotel_df['arrival_date_day_of_month'].astype(str))).dt.days\n",
    "\n",
    "hotel_df[['reservation_status_days_difference']].head()\n",
    "\n",
    "# Plotting the distribution of reservation_status_days_difference by is_canceled\n",
    "plt.figure(figsize=(12, 4))\n",
    "sns.histplot(data=hotel_df, x=\"reservation_status_days_difference\", hue=\"is_canceled\", element=\"step\", stat=\"density\")\n",
    "plt.title('Density Distribution of reservation_status_days_difference by is_canceled')\n",
    "plt.show()\n",
    "\n",
    "hotel_df = hotel_df.drop(['reservation_status_date', 'reservation_status_days_difference'], axis=1)\n",
    "\n",
    "\n"
   ]
  },
  {
   "cell_type": "markdown",
   "metadata": {},
   "source": [
    "Positive values mean the status was updated after the arrival date, and since is_canceled = 0 (not canceled), this suggests that the booking was not canceled.\n",
    "\n",
    "Negative values mean the status was updated before the arrival date, and since is_canceled = 1 (canceled), this suggests that the booking was canceled.\n",
    "\n",
    "The model can just rely on this feature to know if the booking was canceled or not, because the timing of the status update is almost always a clue about cancellations.\n",
    "\n",
    "This gives the model future information that would not be available at prediction time."
   ]
  },
  {
   "cell_type": "code",
   "execution_count": 115,
   "metadata": {},
   "outputs": [],
   "source": [
    "# Dropping assigned_room_type:\n",
    "\n",
    "hotel_df = hotel_df.drop(['assigned_room_type'], axis=1)\n"
   ]
  },
  {
   "cell_type": "markdown",
   "metadata": {},
   "source": [
    "#### Dropping Irrelevant Features\n",
    "\n",
    "Arrival_date_year: only includes a few distinct years, so there’s not much information for the model to learn from. The model might make predictions that are too specific to the years present in the training data, rather than generalizing well to future bookings. Year of arrival may be too specific and cause model to focus on wrong things.\n"
   ]
  },
  {
   "cell_type": "code",
   "execution_count": 116,
   "metadata": {},
   "outputs": [
    {
     "data": {
      "text/plain": [
       "2016    56707\n",
       "2017    40687\n",
       "2015    21996\n",
       "Name: arrival_date_year, dtype: int64"
      ]
     },
     "execution_count": 116,
     "metadata": {},
     "output_type": "execute_result"
    }
   ],
   "source": [
    "hotel_df['arrival_date_year'].value_counts()"
   ]
  },
  {
   "cell_type": "code",
   "execution_count": 117,
   "metadata": {},
   "outputs": [],
   "source": [
    "hotel_df = hotel_df.drop(['arrival_date_year'], axis=1)"
   ]
  },
  {
   "cell_type": "markdown",
   "metadata": {},
   "source": [
    "#### Dropping High Cardinality Features\n",
    "\n",
    "As mentioned before, some of our categorical variables have large number of categories (high cardinality), and could not be necessary/cause model complexity. From this, we can check if we can extract useful information from these variables before dropping them"
   ]
  },
  {
   "cell_type": "code",
   "execution_count": 118,
   "metadata": {},
   "outputs": [
    {
     "data": {
      "application/vnd.microsoft.datawrangler.viewer.v0+json": {
       "columns": [
        {
         "name": "index",
         "rawType": "object",
         "type": "string"
        },
        {
         "name": "Unique Categories",
         "rawType": "int64",
         "type": "integer"
        },
        {
         "name": "Missing Values",
         "rawType": "int64",
         "type": "integer"
        }
       ],
       "conversionMethod": "pd.DataFrame",
       "ref": "0a5182e4-7788-4964-bdc5-5db81e486bdd",
       "rows": [
        [
         "country",
         "178",
         "0"
        ],
        [
         "agent",
         "334",
         "0"
        ],
        [
         "company",
         "353",
         "0"
        ],
        [
         "name",
         "81503",
         "0"
        ],
        [
         "email",
         "115889",
         "0"
        ],
        [
         "phone-number",
         "119390",
         "0"
        ],
        [
         "credit_card",
         "9000",
         "0"
        ]
       ],
       "shape": {
        "columns": 2,
        "rows": 7
       }
      },
      "text/html": [
       "<div>\n",
       "<style scoped>\n",
       "    .dataframe tbody tr th:only-of-type {\n",
       "        vertical-align: middle;\n",
       "    }\n",
       "\n",
       "    .dataframe tbody tr th {\n",
       "        vertical-align: top;\n",
       "    }\n",
       "\n",
       "    .dataframe thead th {\n",
       "        text-align: right;\n",
       "    }\n",
       "</style>\n",
       "<table border=\"1\" class=\"dataframe\">\n",
       "  <thead>\n",
       "    <tr style=\"text-align: right;\">\n",
       "      <th></th>\n",
       "      <th>Unique Categories</th>\n",
       "      <th>Missing Values</th>\n",
       "    </tr>\n",
       "  </thead>\n",
       "  <tbody>\n",
       "    <tr>\n",
       "      <th>country</th>\n",
       "      <td>178</td>\n",
       "      <td>0</td>\n",
       "    </tr>\n",
       "    <tr>\n",
       "      <th>agent</th>\n",
       "      <td>334</td>\n",
       "      <td>0</td>\n",
       "    </tr>\n",
       "    <tr>\n",
       "      <th>company</th>\n",
       "      <td>353</td>\n",
       "      <td>0</td>\n",
       "    </tr>\n",
       "    <tr>\n",
       "      <th>name</th>\n",
       "      <td>81503</td>\n",
       "      <td>0</td>\n",
       "    </tr>\n",
       "    <tr>\n",
       "      <th>email</th>\n",
       "      <td>115889</td>\n",
       "      <td>0</td>\n",
       "    </tr>\n",
       "    <tr>\n",
       "      <th>phone-number</th>\n",
       "      <td>119390</td>\n",
       "      <td>0</td>\n",
       "    </tr>\n",
       "    <tr>\n",
       "      <th>credit_card</th>\n",
       "      <td>9000</td>\n",
       "      <td>0</td>\n",
       "    </tr>\n",
       "  </tbody>\n",
       "</table>\n",
       "</div>"
      ],
      "text/plain": [
       "              Unique Categories  Missing Values\n",
       "country                     178               0\n",
       "agent                       334               0\n",
       "company                     353               0\n",
       "name                      81503               0\n",
       "email                    115889               0\n",
       "phone-number             119390               0\n",
       "credit_card                9000               0"
      ]
     },
     "execution_count": 118,
     "metadata": {},
     "output_type": "execute_result"
    }
   ],
   "source": [
    "# Creating list of features possibly containing high cardinality\n",
    "high_cardinality_features = ['country', 'agent', 'company', 'name', 'email', 'phone-number', 'credit_card']\n",
    "\n",
    "# Checking the number of unique values in each of the high cardinality features\n",
    "unique_categories = hotel_df[high_cardinality_features].nunique()\n",
    "\n",
    "# Checking the total number of missing values in each of the high cardinality features\n",
    "missing_values = hotel_df[high_cardinality_features].isnull().sum()\n",
    "\n",
    "# Combining into dataframe for easier visualization\n",
    "high_cardinality_df = pd.DataFrame({'Unique Categories': unique_categories, 'Missing Values': missing_values})\n",
    "\n",
    "high_cardinality_df\n",
    "\n",
    "\n",
    "\n",
    "\n"
   ]
  },
  {
   "cell_type": "markdown",
   "metadata": {},
   "source": [
    "Observations:\n",
    "\n",
    "- Country: This feature has many categories, so we'll remove it. If needed, we could group countries by region or keep the top N most frequent countries.\n",
    "\n",
    "- Agent: Has several unique categories, it could cause over-fitting. We’ll remove it, as the number of bookings per agent isn’t directly tied to cancellations\n",
    "\n",
    "- Company: We'll omit this feature as it's not informative for cancellations\n",
    "\n",
    "- Name: This feature has many unique categories, so we'll remove it. We could consider creating a feature for the number of bookings per guest, but it's not directly related to cancellations.\n",
    "\n",
    "- Email: Similar to the name feature, we could create a feature for the number of bookings per guest but will omit this feature.\n",
    "\n",
    "- Phone-number: An identifier with no meaningful information, we'll remove it.\n",
    "\n",
    "- Credit_card: We'll remove it as it has many unique values and is not related to cancellations"
   ]
  },
  {
   "cell_type": "code",
   "execution_count": 119,
   "metadata": {},
   "outputs": [
    {
     "data": {
      "application/vnd.microsoft.datawrangler.viewer.v0+json": {
       "columns": [
        {
         "name": "index",
         "rawType": "int64",
         "type": "integer"
        },
        {
         "name": "number_of_bookings",
         "rawType": "int64",
         "type": "integer"
        }
       ],
       "conversionMethod": "pd.DataFrame",
       "ref": "ebe156c1-757f-4f17-9b85-639368c363eb",
       "rows": [
        [
         "0",
         "1"
        ],
        [
         "1",
         "2"
        ],
        [
         "2",
         "3"
        ],
        [
         "3",
         "1"
        ],
        [
         "4",
         "1"
        ]
       ],
       "shape": {
        "columns": 1,
        "rows": 5
       }
      },
      "text/html": [
       "<div>\n",
       "<style scoped>\n",
       "    .dataframe tbody tr th:only-of-type {\n",
       "        vertical-align: middle;\n",
       "    }\n",
       "\n",
       "    .dataframe tbody tr th {\n",
       "        vertical-align: top;\n",
       "    }\n",
       "\n",
       "    .dataframe thead th {\n",
       "        text-align: right;\n",
       "    }\n",
       "</style>\n",
       "<table border=\"1\" class=\"dataframe\">\n",
       "  <thead>\n",
       "    <tr style=\"text-align: right;\">\n",
       "      <th></th>\n",
       "      <th>number_of_bookings</th>\n",
       "    </tr>\n",
       "  </thead>\n",
       "  <tbody>\n",
       "    <tr>\n",
       "      <th>0</th>\n",
       "      <td>1</td>\n",
       "    </tr>\n",
       "    <tr>\n",
       "      <th>1</th>\n",
       "      <td>2</td>\n",
       "    </tr>\n",
       "    <tr>\n",
       "      <th>2</th>\n",
       "      <td>3</td>\n",
       "    </tr>\n",
       "    <tr>\n",
       "      <th>3</th>\n",
       "      <td>1</td>\n",
       "    </tr>\n",
       "    <tr>\n",
       "      <th>4</th>\n",
       "      <td>1</td>\n",
       "    </tr>\n",
       "  </tbody>\n",
       "</table>\n",
       "</div>"
      ],
      "text/plain": [
       "   number_of_bookings\n",
       "0                   1\n",
       "1                   2\n",
       "2                   3\n",
       "3                   1\n",
       "4                   1"
      ]
     },
     "execution_count": 119,
     "metadata": {},
     "output_type": "execute_result"
    }
   ],
   "source": [
    "hotel_df['number_of_bookings'] = hotel_df.groupby('name')[\"name\"].transform('count') # Grouping the rows of the dataframe based on values in name column\n",
    "\n",
    "hotel_df = hotel_df.drop(['name', 'country', 'agent', 'company', 'email', 'phone-number', 'credit_card'], axis=1)\n",
    "\n",
    "hotel_df[['number_of_bookings']].head()\n",
    "\n"
   ]
  },
  {
   "cell_type": "markdown",
   "metadata": {},
   "source": [
    "## 2) Removing Missing Values\n"
   ]
  },
  {
   "cell_type": "code",
   "execution_count": 120,
   "metadata": {},
   "outputs": [
    {
     "data": {
      "text/plain": [
       "hotel                             0.00000\n",
       "is_canceled                       0.00000\n",
       "lead_time                         0.00000\n",
       "arrival_date_month                0.00000\n",
       "arrival_date_week_number          0.00000\n",
       "arrival_date_day_of_month         0.00000\n",
       "stays_in_weekend_nights           0.00000\n",
       "stays_in_week_nights              0.00000\n",
       "adults                            0.00000\n",
       "children                          0.00335\n",
       "babies                            0.00000\n",
       "meal                              0.00000\n",
       "market_segment                    0.00000\n",
       "distribution_channel              0.00000\n",
       "is_repeated_guest                 0.00000\n",
       "previous_cancellations            0.00000\n",
       "previous_bookings_not_canceled    0.00000\n",
       "reserved_room_type                0.00000\n",
       "booking_changes                   0.00000\n",
       "deposit_type                      0.00000\n",
       "days_in_waiting_list              0.00000\n",
       "customer_type                     0.00000\n",
       "adr                               0.00000\n",
       "required_car_parking_spaces       0.00000\n",
       "total_of_special_requests         0.00000\n",
       "number_of_bookings                0.00000\n",
       "dtype: float64"
      ]
     },
     "execution_count": 120,
     "metadata": {},
     "output_type": "execute_result"
    }
   ],
   "source": [
    "missing_values_percentage = (hotel_df.isnull().sum() / len(hotel_df)) * 100\n",
    "missing_values_percentage\n",
    "\n",
    "# With columns of small percentage of missing values, we can replace them with mean, median, or mode of the column"
   ]
  },
  {
   "cell_type": "code",
   "execution_count": 121,
   "metadata": {},
   "outputs": [
    {
     "data": {
      "text/plain": [
       "0.0     110796\n",
       "1.0       4861\n",
       "2.0       3652\n",
       "3.0         76\n",
       "10.0         1\n",
       "Name: children, dtype: int64"
      ]
     },
     "execution_count": 121,
     "metadata": {},
     "output_type": "execute_result"
    }
   ],
   "source": [
    "hotel_df['children'].value_counts()"
   ]
  },
  {
   "cell_type": "markdown",
   "metadata": {},
   "source": [
    "Here we see that for the children variable's majority values are 0.\n",
    "Given this strong value of 0 children, we can replace the missing value with 0 (the mode)."
   ]
  },
  {
   "cell_type": "code",
   "execution_count": 122,
   "metadata": {},
   "outputs": [
    {
     "data": {
      "text/plain": [
       "0"
      ]
     },
     "execution_count": 122,
     "metadata": {},
     "output_type": "execute_result"
    }
   ],
   "source": [
    "hotel_df[\"children\"] = hotel_df[\"children\"].fillna(0)\n",
    "hotel_df[\"children\"].isnull().sum()"
   ]
  },
  {
   "cell_type": "markdown",
   "metadata": {},
   "source": [
    "# 3) Handling Noisy Data\n",
    "\n",
    "The idea of handling noisy data is to address inconsistencies or extreme values"
   ]
  },
  {
   "cell_type": "code",
   "execution_count": 123,
   "metadata": {},
   "outputs": [
    {
     "name": "stdout",
     "output_type": "stream",
     "text": [
      "{'adr': 1, 'adults': 403, 'children': 1, 'babies': 1}\n"
     ]
    }
   ],
   "source": [
    "noisy_data = {\n",
    "    \"adr\" : hotel_df[hotel_df[\"adr\"] < 0],\n",
    "    \"adults\" : hotel_df[hotel_df[\"adults\"] == 0],\n",
    "    \"children\" : hotel_df[hotel_df[\"children\"] == 10],\n",
    "    \"babies\" : hotel_df[hotel_df[\"babies\"] == 10]\n",
    "    \n",
    "}\n",
    "\n",
    "noisy_data_count = {key: len(value) for key,value in noisy_data.items()}\n",
    "print(noisy_data_count)"
   ]
  },
  {
   "cell_type": "markdown",
   "metadata": {},
   "source": [
    "Observations:\n",
    "\n",
    "- Adr: There exists 1 booking with a negative Average Daily Rate. Indicates a potential error. It would be reasonable to replace it with the median as it won't affect the distribution of the data\n",
    "\n",
    "- Adults: 403 bookings with 0 adults exist, indicating possible errors unless rooms were provided to those booked by children or babies *(highly unlikely)*. Since this is a small proportion of the dataset, we could remove these rows\n",
    "\n",
    "- Children: 1 booking with 10 children exists, an extreme value for a single booking. This would be considered an outlier and removed from the dataset\n",
    "\n",
    "- Babies: Likewise, contains 1 booking with 10 babies, another extreme value for a booking. Remove this outlier to address issue\n",
    "\n"
   ]
  },
  {
   "cell_type": "code",
   "execution_count": 124,
   "metadata": {},
   "outputs": [
    {
     "name": "stdout",
     "output_type": "stream",
     "text": [
      "{'adr': 0, 'adults': 0, 'children': 0, 'babies': 0}\n"
     ]
    }
   ],
   "source": [
    "hotel_df.loc[hotel_df[\"adr\"] < 0, \"adr\"] = hotel_df[\"adr\"].median()\n",
    "\n",
    "hotel_df = hotel_df[hotel_df[\"adults\"] != 0]\n",
    "\n",
    "hotel_df = hotel_df[hotel_df[\"children\"] != 10]\n",
    "hotel_df = hotel_df[hotel_df[\"babies\"] != 10]\n",
    "\n",
    "# Resetting the index after dropping rows\n",
    "hotel_df.reset_index(drop=True, inplace=True) \n",
    "\n",
    "# Checking if noisy data is fixed\n",
    "fixed_noisy_data = {\n",
    "    \"adr\" : hotel_df[hotel_df[\"adr\"] < 0],\n",
    "    \"adults\" : hotel_df[hotel_df[\"adults\"] == 0],\n",
    "    \"children\" : hotel_df[hotel_df[\"children\"] == 10],\n",
    "    \"babies\" : hotel_df[hotel_df[\"babies\"] == 10]\n",
    "}\n",
    "\n",
    "fixed_noisy_data = {key: len(value) for key,value in fixed_noisy_data.items()}\n",
    "print(fixed_noisy_data)"
   ]
  },
  {
   "cell_type": "markdown",
   "metadata": {},
   "source": [
    "# Saving Cleaned Dataset\n",
    "\n",
    "Later on for the front-end we will need to apply hotel dataset, however if we pass in the raw dataset then the user will be able to type in values that aren't accurate *(our cleaning process won't be applied, so negative values, and outlier numbers will be applied)*"
   ]
  },
  {
   "cell_type": "code",
   "execution_count": 125,
   "metadata": {},
   "outputs": [],
   "source": [
    "hotel_df.to_csv('cleaned_hotel_data.csv', index=False)"
   ]
  },
  {
   "cell_type": "markdown",
   "metadata": {},
   "source": [
    "# Encoding Categorical Variables\n",
    "\n",
    "Types of Encoding:\n",
    "\n",
    "- One Hot Encoding\n",
    "  - Required for nominal variables (categorical variables with no specific order). Convert each unique valued used into a separate column.\n",
    "\n",
    "- Label Encoding\n",
    "  - Used for ordinal variables (categorical variables with a meaningful order). Assigns a unique integer to each category  in the feature                                                                   "
   ]
  },
  {
   "cell_type": "markdown",
   "metadata": {},
   "source": [
    "No Encoding Needed:\n",
    "\n",
    "- is_canceled: This is the target variable and is binary.\n",
    "- lead_time: This is a numerical variable.\n",
    "- arrival_date_week_number: This is a numerical variable.\n",
    "- arrival_date_day_of_month: This is a numerical variable.\n",
    "- stays_in_weekend_nights: This is a numerical variable.\n",
    "- stays_in_week_nights: This is a numerical variable.\n",
    "- adults: This is a numerical variable.\n",
    "- children: This is a numerical variable.\n",
    "- babies: This is a numerical variable.\n",
    "- is_repeated_guest: This is a binary variable.\n",
    "- previous_cancellations: This is a numerical variable.\n",
    "- previous_bookings_not_canceled: This is a numerical variable.\n",
    "- booking_changes: This is a numerical variable.\n",
    "- days_in_waiting_list: This is a numerical variable.\n",
    "- adr: This is a numerical variable.\n",
    "- required_car_parking_spaces: This is a numerical variable.\n",
    "- total_of_special_requests: This is a numerical variable.\n",
    "- number_of_bookings: This is a numerical variable.\n",
    "\n",
    "\n",
    "Label Encoding: *(potentially could avoid One Hot Encoding if the nominal variables have high cardinality. This could cause an avoid a slow and inefficient model, since one hot encoding causes values in a categorical variable to be split into separate columns)*\n",
    "\n",
    "- hotel: This is a nominal variable with two categories.\n",
    "- meal: This is a nominal variable.\n",
    "- market_segment: This is a nominal variable.\n",
    "- distribution_channel: This is a nominal variable.\n",
    "- reserved_room_type: This is a nominal variable.\n",
    "- deposit_type: This is a nominal variable.\n",
    "- customer_type: This is a nominal variable.\n",
    "- arrival_date_month: This is an ordinal variable (months have a natural order).\n"
   ]
  },
  {
   "cell_type": "code",
   "execution_count": 126,
   "metadata": {},
   "outputs": [
    {
     "data": {
      "text/plain": [
       "hotel                   2\n",
       "meal                    5\n",
       "market_segment          8\n",
       "distribution_channel    5\n",
       "reserved_room_type      9\n",
       "deposit_type            3\n",
       "customer_type           4\n",
       "dtype: int64"
      ]
     },
     "execution_count": 126,
     "metadata": {},
     "output_type": "execute_result"
    }
   ],
   "source": [
    "high_cardinality_features_2 = ['hotel', 'meal', 'market_segment', 'distribution_channel', \"reserved_room_type\", \"deposit_type\", \"customer_type\"]\n",
    "\n",
    "# Checking the number of unique values in each of the high cardinality features\n",
    "unique_categories_2 = hotel_df[high_cardinality_features_2].nunique()\n",
    "\n",
    "unique_categories_2\n",
    "\n",
    "\n",
    "\n",
    "\n"
   ]
  },
  {
   "cell_type": "code",
   "execution_count": 127,
   "metadata": {},
   "outputs": [
    {
     "name": "stdout",
     "output_type": "stream",
     "text": [
      "<class 'pandas.core.frame.DataFrame'>\n",
      "RangeIndex: 118985 entries, 0 to 118984\n",
      "Data columns (total 26 columns):\n",
      " #   Column                          Non-Null Count   Dtype  \n",
      "---  ------                          --------------   -----  \n",
      " 0   hotel                           118985 non-null  int64  \n",
      " 1   is_canceled                     118985 non-null  object \n",
      " 2   lead_time                       118985 non-null  int64  \n",
      " 3   arrival_date_month              118985 non-null  int64  \n",
      " 4   arrival_date_week_number        118985 non-null  int64  \n",
      " 5   arrival_date_day_of_month       118985 non-null  int64  \n",
      " 6   stays_in_weekend_nights         118985 non-null  int64  \n",
      " 7   stays_in_week_nights            118985 non-null  int64  \n",
      " 8   adults                          118985 non-null  int64  \n",
      " 9   children                        118985 non-null  float64\n",
      " 10  babies                          118985 non-null  int64  \n",
      " 11  meal                            118985 non-null  int64  \n",
      " 12  market_segment                  118985 non-null  int64  \n",
      " 13  distribution_channel            118985 non-null  int64  \n",
      " 14  is_repeated_guest               118985 non-null  object \n",
      " 15  previous_cancellations          118985 non-null  int64  \n",
      " 16  previous_bookings_not_canceled  118985 non-null  int64  \n",
      " 17  reserved_room_type              118985 non-null  int64  \n",
      " 18  booking_changes                 118985 non-null  int64  \n",
      " 19  deposit_type                    118985 non-null  int64  \n",
      " 20  days_in_waiting_list            118985 non-null  int64  \n",
      " 21  customer_type                   118985 non-null  int64  \n",
      " 22  adr                             118985 non-null  float64\n",
      " 23  required_car_parking_spaces     118985 non-null  int64  \n",
      " 24  total_of_special_requests       118985 non-null  int64  \n",
      " 25  number_of_bookings              118985 non-null  int64  \n",
      "dtypes: float64(2), int64(22), object(2)\n",
      "memory usage: 23.6+ MB\n"
     ]
    }
   ],
   "source": [
    "from sklearn.preprocessing import LabelEncoder\n",
    "\n",
    "label_encoder = LabelEncoder()\n",
    "\n",
    "# Apply label encoding to categorical columns\n",
    "encoding_cols = ['hotel', 'meal', 'market_segment', 'distribution_channel', \n",
    "                    'reserved_room_type', 'deposit_type', 'customer_type']\n",
    "\n",
    "for col in encoding_cols:\n",
    "    hotel_df[col] = label_encoder.fit_transform(hotel_df[col])\n",
    "\n",
    "# For arrival_date_month, since it's an ordinal variable, you already mapped it earlier\n",
    "months = ['January', 'February', 'March', 'April', 'May', 'June', \n",
    "          'July', 'August', 'September', 'October', 'November', 'December']\n",
    "\n",
    "hotel_df['arrival_date_month'] = hotel_df['arrival_date_month'].map(lambda x: months.index(x) + 1)\n",
    "\n",
    "# Check the DataFrame to make sure encoding is applied\n",
    "hotel_df.info()\n"
   ]
  },
  {
   "cell_type": "code",
   "execution_count": 128,
   "metadata": {},
   "outputs": [
    {
     "data": {
      "application/vnd.microsoft.datawrangler.viewer.v0+json": {
       "columns": [
        {
         "name": "index",
         "rawType": "int64",
         "type": "integer"
        },
        {
         "name": "hotel",
         "rawType": "int64",
         "type": "integer"
        },
        {
         "name": "is_canceled",
         "rawType": "object",
         "type": "string"
        },
        {
         "name": "lead_time",
         "rawType": "int64",
         "type": "integer"
        },
        {
         "name": "arrival_date_month",
         "rawType": "int64",
         "type": "integer"
        },
        {
         "name": "arrival_date_week_number",
         "rawType": "int64",
         "type": "integer"
        },
        {
         "name": "arrival_date_day_of_month",
         "rawType": "int64",
         "type": "integer"
        },
        {
         "name": "stays_in_weekend_nights",
         "rawType": "int64",
         "type": "integer"
        },
        {
         "name": "stays_in_week_nights",
         "rawType": "int64",
         "type": "integer"
        },
        {
         "name": "adults",
         "rawType": "int64",
         "type": "integer"
        },
        {
         "name": "children",
         "rawType": "float64",
         "type": "float"
        },
        {
         "name": "babies",
         "rawType": "int64",
         "type": "integer"
        },
        {
         "name": "meal",
         "rawType": "int64",
         "type": "integer"
        },
        {
         "name": "market_segment",
         "rawType": "int64",
         "type": "integer"
        },
        {
         "name": "distribution_channel",
         "rawType": "int64",
         "type": "integer"
        },
        {
         "name": "is_repeated_guest",
         "rawType": "object",
         "type": "string"
        },
        {
         "name": "previous_cancellations",
         "rawType": "int64",
         "type": "integer"
        },
        {
         "name": "previous_bookings_not_canceled",
         "rawType": "int64",
         "type": "integer"
        },
        {
         "name": "reserved_room_type",
         "rawType": "int64",
         "type": "integer"
        },
        {
         "name": "booking_changes",
         "rawType": "int64",
         "type": "integer"
        },
        {
         "name": "deposit_type",
         "rawType": "int64",
         "type": "integer"
        },
        {
         "name": "days_in_waiting_list",
         "rawType": "int64",
         "type": "integer"
        },
        {
         "name": "customer_type",
         "rawType": "int64",
         "type": "integer"
        },
        {
         "name": "adr",
         "rawType": "float64",
         "type": "float"
        },
        {
         "name": "required_car_parking_spaces",
         "rawType": "int64",
         "type": "integer"
        },
        {
         "name": "total_of_special_requests",
         "rawType": "int64",
         "type": "integer"
        },
        {
         "name": "number_of_bookings",
         "rawType": "int64",
         "type": "integer"
        }
       ],
       "conversionMethod": "pd.DataFrame",
       "ref": "85b4a9f3-5d7a-4624-ac69-7a15587077e0",
       "rows": [
        [
         "0",
         "1",
         "0",
         "342",
         "7",
         "27",
         "1",
         "0",
         "0",
         "2",
         "0.0",
         "0",
         "0",
         "3",
         "1",
         "0",
         "0",
         "0",
         "2",
         "3",
         "0",
         "0",
         "2",
         "0.0",
         "0",
         "0",
         "1"
        ],
        [
         "1",
         "1",
         "0",
         "737",
         "7",
         "27",
         "1",
         "0",
         "0",
         "2",
         "0.0",
         "0",
         "0",
         "3",
         "1",
         "0",
         "0",
         "0",
         "2",
         "4",
         "0",
         "0",
         "2",
         "0.0",
         "0",
         "0",
         "2"
        ],
        [
         "2",
         "1",
         "0",
         "7",
         "7",
         "27",
         "1",
         "0",
         "1",
         "1",
         "0.0",
         "0",
         "0",
         "3",
         "1",
         "0",
         "0",
         "0",
         "0",
         "0",
         "0",
         "0",
         "2",
         "75.0",
         "0",
         "0",
         "3"
        ],
        [
         "3",
         "1",
         "0",
         "13",
         "7",
         "27",
         "1",
         "0",
         "1",
         "1",
         "0.0",
         "0",
         "0",
         "2",
         "0",
         "0",
         "0",
         "0",
         "0",
         "0",
         "0",
         "0",
         "2",
         "75.0",
         "0",
         "0",
         "1"
        ],
        [
         "4",
         "1",
         "0",
         "14",
         "7",
         "27",
         "1",
         "0",
         "2",
         "2",
         "0.0",
         "0",
         "0",
         "6",
         "3",
         "0",
         "0",
         "0",
         "0",
         "0",
         "0",
         "0",
         "2",
         "98.0",
         "0",
         "1",
         "1"
        ]
       ],
       "shape": {
        "columns": 26,
        "rows": 5
       }
      },
      "text/html": [
       "<div>\n",
       "<style scoped>\n",
       "    .dataframe tbody tr th:only-of-type {\n",
       "        vertical-align: middle;\n",
       "    }\n",
       "\n",
       "    .dataframe tbody tr th {\n",
       "        vertical-align: top;\n",
       "    }\n",
       "\n",
       "    .dataframe thead th {\n",
       "        text-align: right;\n",
       "    }\n",
       "</style>\n",
       "<table border=\"1\" class=\"dataframe\">\n",
       "  <thead>\n",
       "    <tr style=\"text-align: right;\">\n",
       "      <th></th>\n",
       "      <th>hotel</th>\n",
       "      <th>is_canceled</th>\n",
       "      <th>lead_time</th>\n",
       "      <th>arrival_date_month</th>\n",
       "      <th>arrival_date_week_number</th>\n",
       "      <th>arrival_date_day_of_month</th>\n",
       "      <th>stays_in_weekend_nights</th>\n",
       "      <th>stays_in_week_nights</th>\n",
       "      <th>adults</th>\n",
       "      <th>children</th>\n",
       "      <th>...</th>\n",
       "      <th>previous_bookings_not_canceled</th>\n",
       "      <th>reserved_room_type</th>\n",
       "      <th>booking_changes</th>\n",
       "      <th>deposit_type</th>\n",
       "      <th>days_in_waiting_list</th>\n",
       "      <th>customer_type</th>\n",
       "      <th>adr</th>\n",
       "      <th>required_car_parking_spaces</th>\n",
       "      <th>total_of_special_requests</th>\n",
       "      <th>number_of_bookings</th>\n",
       "    </tr>\n",
       "  </thead>\n",
       "  <tbody>\n",
       "    <tr>\n",
       "      <th>0</th>\n",
       "      <td>1</td>\n",
       "      <td>0</td>\n",
       "      <td>342</td>\n",
       "      <td>7</td>\n",
       "      <td>27</td>\n",
       "      <td>1</td>\n",
       "      <td>0</td>\n",
       "      <td>0</td>\n",
       "      <td>2</td>\n",
       "      <td>0.0</td>\n",
       "      <td>...</td>\n",
       "      <td>0</td>\n",
       "      <td>2</td>\n",
       "      <td>3</td>\n",
       "      <td>0</td>\n",
       "      <td>0</td>\n",
       "      <td>2</td>\n",
       "      <td>0.0</td>\n",
       "      <td>0</td>\n",
       "      <td>0</td>\n",
       "      <td>1</td>\n",
       "    </tr>\n",
       "    <tr>\n",
       "      <th>1</th>\n",
       "      <td>1</td>\n",
       "      <td>0</td>\n",
       "      <td>737</td>\n",
       "      <td>7</td>\n",
       "      <td>27</td>\n",
       "      <td>1</td>\n",
       "      <td>0</td>\n",
       "      <td>0</td>\n",
       "      <td>2</td>\n",
       "      <td>0.0</td>\n",
       "      <td>...</td>\n",
       "      <td>0</td>\n",
       "      <td>2</td>\n",
       "      <td>4</td>\n",
       "      <td>0</td>\n",
       "      <td>0</td>\n",
       "      <td>2</td>\n",
       "      <td>0.0</td>\n",
       "      <td>0</td>\n",
       "      <td>0</td>\n",
       "      <td>2</td>\n",
       "    </tr>\n",
       "    <tr>\n",
       "      <th>2</th>\n",
       "      <td>1</td>\n",
       "      <td>0</td>\n",
       "      <td>7</td>\n",
       "      <td>7</td>\n",
       "      <td>27</td>\n",
       "      <td>1</td>\n",
       "      <td>0</td>\n",
       "      <td>1</td>\n",
       "      <td>1</td>\n",
       "      <td>0.0</td>\n",
       "      <td>...</td>\n",
       "      <td>0</td>\n",
       "      <td>0</td>\n",
       "      <td>0</td>\n",
       "      <td>0</td>\n",
       "      <td>0</td>\n",
       "      <td>2</td>\n",
       "      <td>75.0</td>\n",
       "      <td>0</td>\n",
       "      <td>0</td>\n",
       "      <td>3</td>\n",
       "    </tr>\n",
       "    <tr>\n",
       "      <th>3</th>\n",
       "      <td>1</td>\n",
       "      <td>0</td>\n",
       "      <td>13</td>\n",
       "      <td>7</td>\n",
       "      <td>27</td>\n",
       "      <td>1</td>\n",
       "      <td>0</td>\n",
       "      <td>1</td>\n",
       "      <td>1</td>\n",
       "      <td>0.0</td>\n",
       "      <td>...</td>\n",
       "      <td>0</td>\n",
       "      <td>0</td>\n",
       "      <td>0</td>\n",
       "      <td>0</td>\n",
       "      <td>0</td>\n",
       "      <td>2</td>\n",
       "      <td>75.0</td>\n",
       "      <td>0</td>\n",
       "      <td>0</td>\n",
       "      <td>1</td>\n",
       "    </tr>\n",
       "    <tr>\n",
       "      <th>4</th>\n",
       "      <td>1</td>\n",
       "      <td>0</td>\n",
       "      <td>14</td>\n",
       "      <td>7</td>\n",
       "      <td>27</td>\n",
       "      <td>1</td>\n",
       "      <td>0</td>\n",
       "      <td>2</td>\n",
       "      <td>2</td>\n",
       "      <td>0.0</td>\n",
       "      <td>...</td>\n",
       "      <td>0</td>\n",
       "      <td>0</td>\n",
       "      <td>0</td>\n",
       "      <td>0</td>\n",
       "      <td>0</td>\n",
       "      <td>2</td>\n",
       "      <td>98.0</td>\n",
       "      <td>0</td>\n",
       "      <td>1</td>\n",
       "      <td>1</td>\n",
       "    </tr>\n",
       "  </tbody>\n",
       "</table>\n",
       "<p>5 rows × 26 columns</p>\n",
       "</div>"
      ],
      "text/plain": [
       "   hotel is_canceled  lead_time  arrival_date_month  arrival_date_week_number  \\\n",
       "0      1           0        342                   7                        27   \n",
       "1      1           0        737                   7                        27   \n",
       "2      1           0          7                   7                        27   \n",
       "3      1           0         13                   7                        27   \n",
       "4      1           0         14                   7                        27   \n",
       "\n",
       "   arrival_date_day_of_month  stays_in_weekend_nights  stays_in_week_nights  \\\n",
       "0                          1                        0                     0   \n",
       "1                          1                        0                     0   \n",
       "2                          1                        0                     1   \n",
       "3                          1                        0                     1   \n",
       "4                          1                        0                     2   \n",
       "\n",
       "   adults  children  ...  previous_bookings_not_canceled  reserved_room_type  \\\n",
       "0       2       0.0  ...                               0                   2   \n",
       "1       2       0.0  ...                               0                   2   \n",
       "2       1       0.0  ...                               0                   0   \n",
       "3       1       0.0  ...                               0                   0   \n",
       "4       2       0.0  ...                               0                   0   \n",
       "\n",
       "   booking_changes  deposit_type days_in_waiting_list  customer_type   adr  \\\n",
       "0                3             0                    0              2   0.0   \n",
       "1                4             0                    0              2   0.0   \n",
       "2                0             0                    0              2  75.0   \n",
       "3                0             0                    0              2  75.0   \n",
       "4                0             0                    0              2  98.0   \n",
       "\n",
       "   required_car_parking_spaces  total_of_special_requests  number_of_bookings  \n",
       "0                            0                          0                   1  \n",
       "1                            0                          0                   2  \n",
       "2                            0                          0                   3  \n",
       "3                            0                          0                   1  \n",
       "4                            0                          1                   1  \n",
       "\n",
       "[5 rows x 26 columns]"
      ]
     },
     "execution_count": 128,
     "metadata": {},
     "output_type": "execute_result"
    }
   ],
   "source": [
    "hotel_df.head()"
   ]
  },
  {
   "cell_type": "markdown",
   "metadata": {},
   "source": [
    "# Checking Imbalanced Data\n",
    "\n",
    "Check if target variable \"is_canceled\" is imbalanced"
   ]
  },
  {
   "cell_type": "code",
   "execution_count": 129,
   "metadata": {},
   "outputs": [
    {
     "name": "stdout",
     "output_type": "stream",
     "text": [
      "0    62.924738\n",
      "1    37.075262\n",
      "Name: is_canceled, dtype: float64\n"
     ]
    },
    {
     "data": {
      "image/png": "[encoded data removed]",
      "text/plain": [
       "<Figure size 640x480 with 1 Axes>"
      ]
     },
     "metadata": {},
     "output_type": "display_data"
    }
   ],
   "source": [
    "print(hotel_df['is_canceled'].value_counts(normalize=True) * 100) # Checking the percentage of each class in the target variable\n",
    "\n",
    "\n",
    "hotel_df['is_canceled'].value_counts(normalize=True).plot(kind='bar', color=['darkturquoise', 'royalblue'])\n",
    "plt.title('Cancellation Rate')\n",
    "plt.xlabel('Is Canceled')\n",
    "plt.ylabel('Percentage')\n",
    "plt.xticks(ticks=[0, 1], labels=['Not Canceled', 'Canceled'], rotation=0)\n",
    "plt.show()"
   ]
  },
  {
   "cell_type": "markdown",
   "metadata": {},
   "source": [
    "The bar plot shows that 37.08% of bookings were canceled, while 62.92% were not. This means the data is somewhat imbalanced but not extreme. Usually, a dataset is highly imbalanced when one class makes up 80-90% of the data. Since cancellations are still well-represented, resampling (like oversampling or undersampling) may not be needed"
   ]
  },
  {
   "cell_type": "code",
   "execution_count": 130,
   "metadata": {},
   "outputs": [
    {
     "data": {
      "text/plain": [
       "hotel                               int64\n",
       "is_canceled                        object\n",
       "lead_time                           int64\n",
       "arrival_date_month                  int64\n",
       "arrival_date_week_number            int64\n",
       "arrival_date_day_of_month           int64\n",
       "stays_in_weekend_nights             int64\n",
       "stays_in_week_nights                int64\n",
       "adults                              int64\n",
       "children                          float64\n",
       "babies                              int64\n",
       "meal                                int64\n",
       "market_segment                      int64\n",
       "distribution_channel                int64\n",
       "is_repeated_guest                  object\n",
       "previous_cancellations              int64\n",
       "previous_bookings_not_canceled      int64\n",
       "reserved_room_type                  int64\n",
       "booking_changes                     int64\n",
       "deposit_type                        int64\n",
       "days_in_waiting_list                int64\n",
       "customer_type                       int64\n",
       "adr                               float64\n",
       "required_car_parking_spaces         int64\n",
       "total_of_special_requests           int64\n",
       "number_of_bookings                  int64\n",
       "dtype: object"
      ]
     },
     "execution_count": 130,
     "metadata": {},
     "output_type": "execute_result"
    }
   ],
   "source": [
    "hotel_df.dtypes"
   ]
  },
  {
   "cell_type": "code",
   "execution_count": 131,
   "metadata": {},
   "outputs": [],
   "source": [
    "# Invalid Column Type: Is Repeated Guest\n",
    "hotel_df['is_repeated_guest'] = hotel_df['is_repeated_guest'].astype(int)\n"
   ]
  },
  {
   "cell_type": "code",
   "execution_count": 132,
   "metadata": {},
   "outputs": [
    {
     "data": {
      "text/plain": [
       "hotel                               int64\n",
       "is_canceled                        object\n",
       "lead_time                           int64\n",
       "arrival_date_month                  int64\n",
       "arrival_date_week_number            int64\n",
       "arrival_date_day_of_month           int64\n",
       "stays_in_weekend_nights             int64\n",
       "stays_in_week_nights                int64\n",
       "adults                              int64\n",
       "children                          float64\n",
       "babies                              int64\n",
       "meal                                int64\n",
       "market_segment                      int64\n",
       "distribution_channel                int64\n",
       "is_repeated_guest                   int64\n",
       "previous_cancellations              int64\n",
       "previous_bookings_not_canceled      int64\n",
       "reserved_room_type                  int64\n",
       "booking_changes                     int64\n",
       "deposit_type                        int64\n",
       "days_in_waiting_list                int64\n",
       "customer_type                       int64\n",
       "adr                               float64\n",
       "required_car_parking_spaces         int64\n",
       "total_of_special_requests           int64\n",
       "number_of_bookings                  int64\n",
       "dtype: object"
      ]
     },
     "execution_count": 132,
     "metadata": {},
     "output_type": "execute_result"
    }
   ],
   "source": [
    "hotel_df.dtypes"
   ]
  },
  {
   "cell_type": "markdown",
   "metadata": {},
   "source": [
    "# Splitting the Dataset"
   ]
  },
  {
   "cell_type": "code",
   "execution_count": 133,
   "metadata": {},
   "outputs": [],
   "source": [
    "import xgboost as xgb\n",
    "from sklearn.model_selection import train_test_split\n",
    "from sklearn.tree import DecisionTreeClassifier\n",
    "from sklearn.ensemble import RandomForestClassifier\n",
    "from sklearn.model_selection import GridSearchCV, StratifiedKFold\n",
    "from sklearn.pipeline import Pipeline\n",
    "from sklearn.metrics import accuracy_score, recall_score, precision_score, f1_score, roc_auc_score\n",
    "from sklearn.metrics import classification_report, RocCurveDisplay, ConfusionMatrixDisplay\n",
    "\n",
    "x = hotel_df.drop('is_canceled', axis=1)\n",
    "y = hotel_df['is_canceled']\n",
    "\n",
    "\n",
    "\n",
    "# Stratified sampling to ensure that the proportion of target variable in the train and test sets are the same\n",
    "X_train, X_test, y_train, y_test = train_test_split(x, y, test_size=0.2, random_state=0, stratify=y)\n",
    "\n",
    "y_train = y_train.astype(int) # Prevents Scikit-Learn from storing 0s and 1s as string values, which can cause issues with some functions\n",
    "y_test = y_test.astype(int)"
   ]
  },
  {
   "cell_type": "markdown",
   "metadata": {},
   "source": [
    "# Model Building\n",
    "\n",
    "Target Variable: \"is_canceled\" indicates whether a booking was canceled (1) or not (0)\n",
    "\n",
    "- False negatives (predicting a booking won't be canceled when it actually is). This costly because the hotel may overbook, etc. Goal: maximize recall score for the canceled class (1)\n",
    "\n",
    "- False positive (predicting a cancellation but the guest actually arrives), may cause unhappy guests. Goal: maximize precision score\n",
    "\n",
    "F1-score is a metric that balances the false positives (precision) and false negatives (recall)\n"
   ]
  },
  {
   "cell_type": "markdown",
   "metadata": {},
   "source": [
    "### Decision Tree"
   ]
  },
  {
   "cell_type": "code",
   "execution_count": 28,
   "metadata": {},
   "outputs": [],
   "source": [
    "dt_base = DecisionTreeClassifier(random_state = 0)"
   ]
  },
  {
   "cell_type": "markdown",
   "metadata": {},
   "source": [
    "So to determine the best model, we need the best combination of hyperparameters\n",
    "\n",
    "- Parameters are values that the model learns on its own from the data during training\n",
    "\n",
    "- Hyperparameters are settings you can choose before training, which can affect how the model learns\n",
    "\n"
   ]
  },
  {
   "cell_type": "code",
   "execution_count": 134,
   "metadata": {},
   "outputs": [],
   "source": [
    "# Create a function that finds the best hyperparameters for the model using GridSearchCV\n",
    "\n",
    "def find_best_hyperparameters(classifier_type, dict_hyper, x_train, y_train, scoring_metric=\"f1\", cv_split=5):\n",
    "    \n",
    "    # Create a cross-validation object using StratifiedKFold\n",
    "    obj_cv = StratifiedKFold(n_splits=cv_split, shuffle=True, random_state=0)\n",
    "    \n",
    "    # Create a GridSearchCV object\n",
    "    \n",
    "    grid_search = GridSearchCV(classifier_type, dict_hyper, scoring=scoring_metric, cv=obj_cv, n_jobs = -1)\n",
    "    \n",
    "    grid_search.fit(x_train, y_train)\n",
    "    \n",
    "    return grid_search.best_estimator_, grid_search.best_params_\n",
    "    \n",
    "   "
   ]
  },
  {
   "cell_type": "code",
   "execution_count": 135,
   "metadata": {},
   "outputs": [
    {
     "name": "stdout",
     "output_type": "stream",
     "text": [
      "Best Hyperparameters for Decision Tree:  {'class_weight': {0: 1, 1: 1}, 'criterion': 'gini', 'max_depth': 25, 'min_samples_leaf': 2, 'min_samples_split': 20}\n"
     ]
    }
   ],
   "source": [
    "dt_hyperparameters = {\n",
    "    \"criterion\" : [\"gini\", \"entropy\"],\n",
    "    \"max_depth\" : [5, 15, 25],\n",
    "    \"min_samples_split\" : [2, 10, 20],\n",
    "    \"min_samples_leaf\" : [2, 10, 20],\n",
    "    \"class_weight\" : [{0: 1, 1:w} for w in [1,2,3]]\n",
    "    \n",
    "}\n",
    "\n",
    "dt_best_model, dt_best_params = find_best_hyperparameters(dt_base, dt_hyperparameters, X_train, y_train)\n",
    "\n",
    "print(\"Best Hyperparameters for Decision Tree: \", dt_best_params)"
   ]
  },
  {
   "cell_type": "markdown",
   "metadata": {},
   "source": [
    "### Evaluating DT Model\n",
    "\n"
   ]
  },
  {
   "cell_type": "code",
   "execution_count": 136,
   "metadata": {},
   "outputs": [],
   "source": [
    "# This function provides a summary of the metrics for the model\n",
    "def calculating_metrics(classifier_type, X_test, y_test, name_of_model):\n",
    "    \n",
    "    y_pred = classifier_type.predict(X_test)\n",
    "    \n",
    "    results_df = pd.DataFrame(data = [accuracy_score(y_test, y_pred), # Computes the percentage of correct predictions\n",
    "                                      \n",
    "                                      recall_score(y_test, y_pred), # Computes the proportion of actual positive cases that were correctly identified\n",
    "                                      \n",
    "                                      precision_score(y_test, y_pred), # Computes the proportion of predicted cancellations that were actually cancelled\n",
    "                                      f1_score(y_test, y_pred), \n",
    "                                      roc_auc_score(y_test, y_pred)],\n",
    "                                    \n",
    "                                      index = ['Accuracy', 'Recall', 'Precision', 'F1 Score', 'ROC AUC Score'],\n",
    "                                      columns = [name_of_model])\n",
    "    \n",
    "    formatted_results_df = (results_df * 100).round(2)\n",
    "    \n",
    "    return formatted_results_df\n",
    "                              "
   ]
  },
  {
   "cell_type": "code",
   "execution_count": 137,
   "metadata": {},
   "outputs": [],
   "source": [
    "# This function provides a complete report of the Classification Metrics (both training and testing) for the model, confusion matrix, and ROC curve\n",
    "\n",
    "def evaluating_model(classifier_type, X_train, X_test, y_train, y_test):\n",
    "    \n",
    "\n",
    "    print(\"\\nClassification Report - Training Set\")\n",
    "    print(classification_report(y_train, classifier_type.predict(X_train)))\n",
    "\n",
    "    print(\"\\nClassification Report - Test Set\")\n",
    "    print(classification_report(y_test, classifier_type.predict(X_test)))\n",
    "\n",
    "    # Create subplots\n",
    "    fig, (ax1, ax2) = plt.subplots(1, 2, figsize=(12, 5), dpi=100)\n",
    "\n",
    "    # Confusion Matrix for test set\n",
    "    ConfusionMatrixDisplay.from_estimator(classifier_type, X_test, y_test, cmap='Blues', ax=ax1)\n",
    "    ax1.set_title('Confusion Matrix - Test Set')\n",
    "\n",
    "    # ROC Curve for test set\n",
    "    RocCurveDisplay.from_estimator(classifier_type, X_test, y_test, ax=ax2)\n",
    "    ax2.set_title('ROC Curve - Test Set')\n",
    "\n",
    "    plt.tight_layout()\n",
    "    plt.show()\n",
    "    \n",
    "    \n",
    "# Use RocCurveDisplay when you want to visualize model performance across different thresholds.\n",
    "# Use roc_auc_score(y_test, y_pred) when you want a single AUC value based on a fixed decision threshold.\n",
    "   \n"
   ]
  },
  {
   "cell_type": "code",
   "execution_count": 138,
   "metadata": {},
   "outputs": [
    {
     "data": {
      "application/vnd.microsoft.datawrangler.viewer.v0+json": {
       "columns": [
        {
         "name": "index",
         "rawType": "object",
         "type": "string"
        },
        {
         "name": "Decision Tree",
         "rawType": "float64",
         "type": "float"
        }
       ],
       "conversionMethod": "pd.DataFrame",
       "ref": "2e1b3cf8-be6b-4c59-97d6-17f499c6807d",
       "rows": [
        [
         "Accuracy",
         "82.3"
        ],
        [
         "Recall",
         "71.81"
        ],
        [
         "Precision",
         "78.59"
        ],
        [
         "F1 Score",
         "75.05"
        ],
        [
         "ROC AUC Score",
         "80.14"
        ]
       ],
       "shape": {
        "columns": 1,
        "rows": 5
       }
      },
      "text/html": [
       "<div>\n",
       "<style scoped>\n",
       "    .dataframe tbody tr th:only-of-type {\n",
       "        vertical-align: middle;\n",
       "    }\n",
       "\n",
       "    .dataframe tbody tr th {\n",
       "        vertical-align: top;\n",
       "    }\n",
       "\n",
       "    .dataframe thead th {\n",
       "        text-align: right;\n",
       "    }\n",
       "</style>\n",
       "<table border=\"1\" class=\"dataframe\">\n",
       "  <thead>\n",
       "    <tr style=\"text-align: right;\">\n",
       "      <th></th>\n",
       "      <th>Decision Tree</th>\n",
       "    </tr>\n",
       "  </thead>\n",
       "  <tbody>\n",
       "    <tr>\n",
       "      <th>Accuracy</th>\n",
       "      <td>82.30</td>\n",
       "    </tr>\n",
       "    <tr>\n",
       "      <th>Recall</th>\n",
       "      <td>71.81</td>\n",
       "    </tr>\n",
       "    <tr>\n",
       "      <th>Precision</th>\n",
       "      <td>78.59</td>\n",
       "    </tr>\n",
       "    <tr>\n",
       "      <th>F1 Score</th>\n",
       "      <td>75.05</td>\n",
       "    </tr>\n",
       "    <tr>\n",
       "      <th>ROC AUC Score</th>\n",
       "      <td>80.14</td>\n",
       "    </tr>\n",
       "  </tbody>\n",
       "</table>\n",
       "</div>"
      ],
      "text/plain": [
       "               Decision Tree\n",
       "Accuracy               82.30\n",
       "Recall                 71.81\n",
       "Precision              78.59\n",
       "F1 Score               75.05\n",
       "ROC AUC Score          80.14"
      ]
     },
     "execution_count": 138,
     "metadata": {},
     "output_type": "execute_result"
    }
   ],
   "source": [
    "dt_results = calculating_metrics(dt_best_model, X_test, y_test, \"Decision Tree\")\n",
    "\n",
    "dt_results"
   ]
  },
  {
   "cell_type": "code",
   "execution_count": 139,
   "metadata": {},
   "outputs": [
    {
     "name": "stdout",
     "output_type": "stream",
     "text": [
      "\n",
      "Classification Report - Training Set\n",
      "              precision    recall  f1-score   support\n",
      "\n",
      "           0       0.90      0.94      0.92     59897\n",
      "           1       0.89      0.82      0.85     35291\n",
      "\n",
      "    accuracy                           0.90     95188\n",
      "   macro avg       0.90      0.88      0.89     95188\n",
      "weighted avg       0.90      0.90      0.89     95188\n",
      "\n",
      "\n",
      "Classification Report - Test Set\n",
      "              precision    recall  f1-score   support\n",
      "\n",
      "           0       0.84      0.88      0.86     14974\n",
      "           1       0.79      0.72      0.75      8823\n",
      "\n",
      "    accuracy                           0.82     23797\n",
      "   macro avg       0.81      0.80      0.81     23797\n",
      "weighted avg       0.82      0.82      0.82     23797\n",
      "\n"
     ]
    },
    {
     "data": {
      "image/png": "[encoded data removed]",
      "text/plain": [
       "<Figure size 1200x500 with 3 Axes>"
      ]
     },
     "metadata": {},
     "output_type": "display_data"
    }
   ],
   "source": [
    "evaluating_model(dt_best_model, X_train, X_test, y_train, y_test)"
   ]
  },
  {
   "cell_type": "markdown",
   "metadata": {},
   "source": [
    "### Random Forest Section"
   ]
  },
  {
   "cell_type": "code",
   "execution_count": 152,
   "metadata": {},
   "outputs": [],
   "source": [
    "rf_base = RandomForestClassifier(random_state = 0)"
   ]
  },
  {
   "cell_type": "code",
   "execution_count": 153,
   "metadata": {},
   "outputs": [
    {
     "name": "stdout",
     "output_type": "stream",
     "text": [
      "Best Hyperparameters for Random Forest:  {'class_weight': {0: 1, 1: 2}, 'criterion': 'gini', 'max_depth': 24, 'min_samples_leaf': 3, 'min_samples_split': 3, 'n_estimators': 300}\n"
     ]
    }
   ],
   "source": [
    "rf_hyperparameters = {\"n_estimators\": [100, 200, 300],\n",
    "                      \"criterion\" : [\"gini\", \"entropy\"],\n",
    "                      \"max_depth\": [4, 8, 24],\n",
    "                      \"min_samples_split\": [3, 9, 18],\n",
    "                      \"min_samples_leaf\": [3, 11, 21],\n",
    "                      \"class_weight\" : [{0: 1, 1:w} for w in [1,2,3]]}\n",
    "\n",
    "rf_best_model, rf_best_params = find_best_hyperparameters(rf_base, rf_hyperparameters, X_train, y_train)\n",
    "\n",
    "print(\"Best Hyperparameters for Random Forest: \", rf_best_params)"
   ]
  },
  {
   "cell_type": "code",
   "execution_count": 154,
   "metadata": {},
   "outputs": [
    {
     "data": {
      "application/vnd.microsoft.datawrangler.viewer.v0+json": {
       "columns": [
        {
         "name": "index",
         "rawType": "object",
         "type": "string"
        },
        {
         "name": "Random Forest",
         "rawType": "float64",
         "type": "float"
        }
       ],
       "conversionMethod": "pd.DataFrame",
       "ref": "2e6ea728-2ae2-4188-b592-e5fef6eb3bd4",
       "rows": [
        [
         "Accuracy",
         "85.48"
        ],
        [
         "Recall",
         "79.11"
        ],
        [
         "Precision",
         "81.24"
        ],
        [
         "F1 Score",
         "80.16"
        ],
        [
         "ROC AUC Score",
         "84.17"
        ]
       ],
       "shape": {
        "columns": 1,
        "rows": 5
       }
      },
      "text/html": [
       "<div>\n",
       "<style scoped>\n",
       "    .dataframe tbody tr th:only-of-type {\n",
       "        vertical-align: middle;\n",
       "    }\n",
       "\n",
       "    .dataframe tbody tr th {\n",
       "        vertical-align: top;\n",
       "    }\n",
       "\n",
       "    .dataframe thead th {\n",
       "        text-align: right;\n",
       "    }\n",
       "</style>\n",
       "<table border=\"1\" class=\"dataframe\">\n",
       "  <thead>\n",
       "    <tr style=\"text-align: right;\">\n",
       "      <th></th>\n",
       "      <th>Random Forest</th>\n",
       "    </tr>\n",
       "  </thead>\n",
       "  <tbody>\n",
       "    <tr>\n",
       "      <th>Accuracy</th>\n",
       "      <td>85.48</td>\n",
       "    </tr>\n",
       "    <tr>\n",
       "      <th>Recall</th>\n",
       "      <td>79.11</td>\n",
       "    </tr>\n",
       "    <tr>\n",
       "      <th>Precision</th>\n",
       "      <td>81.24</td>\n",
       "    </tr>\n",
       "    <tr>\n",
       "      <th>F1 Score</th>\n",
       "      <td>80.16</td>\n",
       "    </tr>\n",
       "    <tr>\n",
       "      <th>ROC AUC Score</th>\n",
       "      <td>84.17</td>\n",
       "    </tr>\n",
       "  </tbody>\n",
       "</table>\n",
       "</div>"
      ],
      "text/plain": [
       "               Random Forest\n",
       "Accuracy               85.48\n",
       "Recall                 79.11\n",
       "Precision              81.24\n",
       "F1 Score               80.16\n",
       "ROC AUC Score          84.17"
      ]
     },
     "execution_count": 154,
     "metadata": {},
     "output_type": "execute_result"
    }
   ],
   "source": [
    "rf_results = calculating_metrics(rf_best_model, X_test, y_test, \"Random Forest\")\n",
    "\n",
    "rf_results"
   ]
  },
  {
   "cell_type": "code",
   "execution_count": 155,
   "metadata": {},
   "outputs": [
    {
     "name": "stdout",
     "output_type": "stream",
     "text": [
      "\n",
      "Classification Report - Training Set\n",
      "              precision    recall  f1-score   support\n",
      "\n",
      "           0       0.94      0.93      0.94     59897\n",
      "           1       0.88      0.91      0.89     35291\n",
      "\n",
      "    accuracy                           0.92     95188\n",
      "   macro avg       0.91      0.92      0.91     95188\n",
      "weighted avg       0.92      0.92      0.92     95188\n",
      "\n",
      "\n",
      "Classification Report - Test Set\n",
      "              precision    recall  f1-score   support\n",
      "\n",
      "           0       0.88      0.89      0.89     14974\n",
      "           1       0.81      0.79      0.80      8823\n",
      "\n",
      "    accuracy                           0.85     23797\n",
      "   macro avg       0.85      0.84      0.84     23797\n",
      "weighted avg       0.85      0.85      0.85     23797\n",
      "\n"
     ]
    },
    {
     "data": {
      "image/png": "[encoded data removed]",
      "text/plain": [
       "<Figure size 1200x500 with 3 Axes>"
      ]
     },
     "metadata": {},
     "output_type": "display_data"
    }
   ],
   "source": [
    "evaluating_model(rf_best_model, X_train, X_test, y_train, y_test)"
   ]
  },
  {
   "cell_type": "markdown",
   "metadata": {},
   "source": [
    "### XGBoost Section\n"
   ]
  },
  {
   "cell_type": "code",
   "execution_count": 142,
   "metadata": {},
   "outputs": [],
   "source": [
    "xgb_base = xgb.XGBClassifier(random_state = 0)"
   ]
  },
  {
   "cell_type": "code",
   "execution_count": 143,
   "metadata": {},
   "outputs": [],
   "source": [
    "xgb_hyperparameters = {\"n_estimators\": [100, 200, 300],\n",
    "                       \"learning_rate\": [0.01, 0.1, 0.3],\n",
    "                       \"max_depth\": [3, 5, 7],\n",
    "                       \"subsample\": [0.5, 0.7, 1],\n",
    "                       \"colsample_bytree\": [0.5, 0.7, 1],\n",
    "                       \"scale_pos_weight\": [1, (y_train == 0).sum() / (y_train == 1).sum()]}"
   ]
  },
  {
   "cell_type": "code",
   "execution_count": 145,
   "metadata": {},
   "outputs": [
    {
     "name": "stdout",
     "output_type": "stream",
     "text": [
      "Best Hyperparameters for XGBoost:  {'colsample_bytree': 1, 'learning_rate': 0.3, 'max_depth': 7, 'n_estimators': 300, 'scale_pos_weight': 1.697231588790343, 'subsample': 1}\n"
     ]
    }
   ],
   "source": [
    "xgb_best_model, xgb_best_params = find_best_hyperparameters(xgb_base, xgb_hyperparameters, X_train, y_train)\n",
    "\n",
    "print(\"Best Hyperparameters for XGBoost: \", xgb_best_params)"
   ]
  },
  {
   "cell_type": "code",
   "execution_count": 146,
   "metadata": {},
   "outputs": [
    {
     "data": {
      "application/vnd.microsoft.datawrangler.viewer.v0+json": {
       "columns": [
        {
         "name": "index",
         "rawType": "object",
         "type": "string"
        },
        {
         "name": "XGBoost",
         "rawType": "float64",
         "type": "float"
        }
       ],
       "conversionMethod": "pd.DataFrame",
       "ref": "f14029c3-088b-49fe-879f-03c132cfae83",
       "rows": [
        [
         "Accuracy",
         "84.43"
        ],
        [
         "Recall",
         "79.43"
        ],
        [
         "Precision",
         "78.76"
        ],
        [
         "F1 Score",
         "79.09"
        ],
        [
         "ROC AUC Score",
         "83.4"
        ]
       ],
       "shape": {
        "columns": 1,
        "rows": 5
       }
      },
      "text/html": [
       "<div>\n",
       "<style scoped>\n",
       "    .dataframe tbody tr th:only-of-type {\n",
       "        vertical-align: middle;\n",
       "    }\n",
       "\n",
       "    .dataframe tbody tr th {\n",
       "        vertical-align: top;\n",
       "    }\n",
       "\n",
       "    .dataframe thead th {\n",
       "        text-align: right;\n",
       "    }\n",
       "</style>\n",
       "<table border=\"1\" class=\"dataframe\">\n",
       "  <thead>\n",
       "    <tr style=\"text-align: right;\">\n",
       "      <th></th>\n",
       "      <th>XGBoost</th>\n",
       "    </tr>\n",
       "  </thead>\n",
       "  <tbody>\n",
       "    <tr>\n",
       "      <th>Accuracy</th>\n",
       "      <td>84.43</td>\n",
       "    </tr>\n",
       "    <tr>\n",
       "      <th>Recall</th>\n",
       "      <td>79.43</td>\n",
       "    </tr>\n",
       "    <tr>\n",
       "      <th>Precision</th>\n",
       "      <td>78.76</td>\n",
       "    </tr>\n",
       "    <tr>\n",
       "      <th>F1 Score</th>\n",
       "      <td>79.09</td>\n",
       "    </tr>\n",
       "    <tr>\n",
       "      <th>ROC AUC Score</th>\n",
       "      <td>83.40</td>\n",
       "    </tr>\n",
       "  </tbody>\n",
       "</table>\n",
       "</div>"
      ],
      "text/plain": [
       "               XGBoost\n",
       "Accuracy         84.43\n",
       "Recall           79.43\n",
       "Precision        78.76\n",
       "F1 Score         79.09\n",
       "ROC AUC Score    83.40"
      ]
     },
     "execution_count": 146,
     "metadata": {},
     "output_type": "execute_result"
    }
   ],
   "source": [
    "xgb_results = calculating_metrics(xgb_best_model, X_test, y_test, \"XGBoost\")\n",
    "\n",
    "xgb_results"
   ]
  },
  {
   "cell_type": "code",
   "execution_count": 147,
   "metadata": {},
   "outputs": [
    {
     "name": "stdout",
     "output_type": "stream",
     "text": [
      "\n",
      "Classification Report - Training Set\n",
      "              precision    recall  f1-score   support\n",
      "\n",
      "           0       0.95      0.93      0.94     59897\n",
      "           1       0.88      0.92      0.90     35291\n",
      "\n",
      "    accuracy                           0.92     95188\n",
      "   macro avg       0.92      0.92      0.92     95188\n",
      "weighted avg       0.92      0.92      0.92     95188\n",
      "\n",
      "\n",
      "Classification Report - Test Set\n",
      "              precision    recall  f1-score   support\n",
      "\n",
      "           0       0.88      0.87      0.88     14974\n",
      "           1       0.79      0.79      0.79      8823\n",
      "\n",
      "    accuracy                           0.84     23797\n",
      "   macro avg       0.83      0.83      0.83     23797\n",
      "weighted avg       0.84      0.84      0.84     23797\n",
      "\n"
     ]
    },
    {
     "data": {
      "image/png": "[encoded data removed]",
      "text/plain": [
       "<Figure size 1200x500 with 3 Axes>"
      ]
     },
     "metadata": {},
     "output_type": "display_data"
    }
   ],
   "source": [
    "evaluating_model(xgb_best_model, X_train, X_test, y_train, y_test)"
   ]
  },
  {
   "cell_type": "markdown",
   "metadata": {},
   "source": [
    "### Combining Results"
   ]
  },
  {
   "cell_type": "code",
   "execution_count": 157,
   "metadata": {},
   "outputs": [
    {
     "data": {
      "application/vnd.microsoft.datawrangler.viewer.v0+json": {
       "columns": [
        {
         "name": "index",
         "rawType": "object",
         "type": "string"
        },
        {
         "name": "Accuracy",
         "rawType": "float64",
         "type": "float"
        },
        {
         "name": "Recall",
         "rawType": "float64",
         "type": "float"
        },
        {
         "name": "Precision",
         "rawType": "float64",
         "type": "float"
        },
        {
         "name": "F1 Score",
         "rawType": "float64",
         "type": "float"
        },
        {
         "name": "ROC AUC Score",
         "rawType": "float64",
         "type": "float"
        }
       ],
       "conversionMethod": "pd.DataFrame",
       "ref": "261f28d7-86d2-4a82-8f1c-aa9ad1963f7b",
       "rows": [
        [
         "Random Forest",
         "85.48",
         "79.11",
         "81.24",
         "80.16",
         "84.17"
        ],
        [
         "XGBoost",
         "84.43",
         "79.43",
         "78.76",
         "79.09",
         "83.4"
        ],
        [
         "Decision Tree",
         "82.3",
         "71.81",
         "78.59",
         "75.05",
         "80.14"
        ]
       ],
       "shape": {
        "columns": 5,
        "rows": 3
       }
      },
      "text/html": [
       "<div>\n",
       "<style scoped>\n",
       "    .dataframe tbody tr th:only-of-type {\n",
       "        vertical-align: middle;\n",
       "    }\n",
       "\n",
       "    .dataframe tbody tr th {\n",
       "        vertical-align: top;\n",
       "    }\n",
       "\n",
       "    .dataframe thead th {\n",
       "        text-align: right;\n",
       "    }\n",
       "</style>\n",
       "<table border=\"1\" class=\"dataframe\">\n",
       "  <thead>\n",
       "    <tr style=\"text-align: right;\">\n",
       "      <th></th>\n",
       "      <th>Accuracy</th>\n",
       "      <th>Recall</th>\n",
       "      <th>Precision</th>\n",
       "      <th>F1 Score</th>\n",
       "      <th>ROC AUC Score</th>\n",
       "    </tr>\n",
       "  </thead>\n",
       "  <tbody>\n",
       "    <tr>\n",
       "      <th>Random Forest</th>\n",
       "      <td>85.48</td>\n",
       "      <td>79.11</td>\n",
       "      <td>81.24</td>\n",
       "      <td>80.16</td>\n",
       "      <td>84.17</td>\n",
       "    </tr>\n",
       "    <tr>\n",
       "      <th>XGBoost</th>\n",
       "      <td>84.43</td>\n",
       "      <td>79.43</td>\n",
       "      <td>78.76</td>\n",
       "      <td>79.09</td>\n",
       "      <td>83.40</td>\n",
       "    </tr>\n",
       "    <tr>\n",
       "      <th>Decision Tree</th>\n",
       "      <td>82.30</td>\n",
       "      <td>71.81</td>\n",
       "      <td>78.59</td>\n",
       "      <td>75.05</td>\n",
       "      <td>80.14</td>\n",
       "    </tr>\n",
       "  </tbody>\n",
       "</table>\n",
       "</div>"
      ],
      "text/plain": [
       "               Accuracy  Recall  Precision  F1 Score  ROC AUC Score\n",
       "Random Forest     85.48   79.11      81.24     80.16          84.17\n",
       "XGBoost           84.43   79.43      78.76     79.09          83.40\n",
       "Decision Tree     82.30   71.81      78.59     75.05          80.14"
      ]
     },
     "execution_count": 157,
     "metadata": {},
     "output_type": "execute_result"
    }
   ],
   "source": [
    "concat_results = pd.concat([dt_results, rf_results, xgb_results], axis=1).T\n",
    "\n",
    "concat_results.sort_values(by = \"F1 Score\", ascending = False, inplace = True)\n",
    "\n",
    "concat_results"
   ]
  },
  {
   "cell_type": "markdown",
   "metadata": {},
   "source": [
    "### XGBoost Feature Importance"
   ]
  },
  {
   "cell_type": "code",
   "execution_count": 149,
   "metadata": {},
   "outputs": [
    {
     "data": {
      "image/png": "[encoded data removed]",
      "text/plain": [
       "<Figure size 2000x1400 with 1 Axes>"
      ]
     },
     "metadata": {},
     "output_type": "display_data"
    }
   ],
   "source": [
    "# Get and sort feature importances\n",
    "sorted_indices = np.argsort(xgb_best_model.feature_importances_)[::-1]\n",
    "\n",
    "# Plot\n",
    "plt.figure(figsize=(10, 7), dpi=200)\n",
    "sns.barplot(x=xgb_best_model.feature_importances_[sorted_indices], y=x.columns[sorted_indices], color='darkturquoise')\n",
    "\n",
    "plt.xlabel('Feature Importance')\n",
    "plt.title('Feature Importances')\n",
    "plt.yticks(fontsize=7)\n",
    "plt.show()"
   ]
  },
  {
   "cell_type": "markdown",
   "metadata": {},
   "source": [
    "### Front-End Building"
   ]
  },
  {
   "cell_type": "code",
   "execution_count": 158,
   "metadata": {},
   "outputs": [],
   "source": [
    "# Pickle is a Python module used for serializing (pickling) and deserializing (unpickling) Python objects.\n",
    "\n",
    "# Serialization is the process of converting an object into a stream of bytes to store the object a file.\n",
    "\n",
    "# Deserialization is the process of converting a stream of bytes back into a Python object.\n",
    "\n",
    "# Byte streams are a way of encoding and transferring information in a binary format rather than a text format. \n",
    "\n",
    "# Pickling a trained model allows us to save the model to a file and load it later to make predictions without having to retrain it.\n",
    "\n",
    "import pickle\n",
    "\n",
    "# Serializing the decision tree model\n",
    "with open('rf_best_model.pkl', 'wb') as file: # WB stands for write binary (opening a file to write its content in binary format)\n",
    "    pickle.dump(rf_best_model, file)\n",
    "    \n",
    "\n",
    "\n",
    "\n",
    "\n",
    "# If want to convert current file from notebook to python file:\n",
    "# Type the following in terminal: jupyter nbconvert --to script hotel_prediction.ipynb"
   ]
  }
 ],
 "metadata": {
  "kernelspec": {
   "display_name": "Python 3",
   "language": "python",
   "name": "python3"
  },
  "language_info": {
   "codemirror_mode": {
    "name": "ipython",
    "version": 3
   },
   "file_extension": ".py",
   "mimetype": "text/x-python",
   "name": "python",
   "nbconvert_exporter": "python",
   "pygments_lexer": "ipython3",
   "version": "3.12.0"
  }
 },
 "nbformat": 4,
 "nbformat_minor": 2
}
